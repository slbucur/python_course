{
 "cells": [
  {
   "cell_type": "markdown",
   "metadata": {},
   "source": [
    "### Problem 1\n",
    "\n",
    "Use list comprehensions and dictionary accessing to take the princesses"
   ]
  },
  {
   "cell_type": "code",
   "execution_count": 6,
   "metadata": {},
   "outputs": [],
   "source": [
    "level_1 = ['', '👸', '👸', '👸', '']"
   ]
  },
  {
   "cell_type": "code",
   "execution_count": 7,
   "metadata": {},
   "outputs": [],
   "source": [
    "level_2 = {'castle': ['', '👸', '👸', '👸', '']}"
   ]
  },
  {
   "cell_type": "code",
   "execution_count": 4,
   "metadata": {},
   "outputs": [],
   "source": [
    "level_3 = {\n",
    "    'castle_1': [['', '👸', '👸', '👸', '']],\n",
    "    'castle_2': '👸'\n",
    "}\n",
    "\n",
    "# here you can do it in two instructions"
   ]
  },
  {
   "cell_type": "code",
   "execution_count": null,
   "metadata": {},
   "outputs": [],
   "source": []
  },
  {
   "cell_type": "markdown",
   "metadata": {},
   "source": [
    "### Problem 2\n",
    "Make a function which returns the even numbers between A and B\n",
    "* two inputs, A and B\n",
    "* verify that B is greater A\n",
    "* return a list of even numbers\n",
    "\n",
    "##### Example:\n",
    "```python\n",
    "res = can_you_even(5, 10)\n",
    "print(res)\n",
    "[6, 8, 10]\n",
    "```"
   ]
  },
  {
   "cell_type": "code",
   "execution_count": null,
   "metadata": {},
   "outputs": [],
   "source": [
    "def can_you_even..."
   ]
  },
  {
   "cell_type": "markdown",
   "metadata": {},
   "source": [
    "### Problem 3\n",
    "\n",
    "Calculate the fibbonaci sequence\n",
    "\n",
    "```\n",
    "fib(0) => 1\n",
    "fib(1) => 1\n",
    "fib(2) => fib(0) + fib(1) = 2\n",
    "fib(3) => fib(2) + fib(1) = 2 + 1 = 3\n",
    "fib(4) => fib(3) + fib(4) = 3 + 2 = 5\n",
    "```"
   ]
  },
  {
   "cell_type": "code",
   "execution_count": null,
   "metadata": {},
   "outputs": [],
   "source": [
    "def fib..."
   ]
  },
  {
   "cell_type": "markdown",
   "metadata": {},
   "source": [
    "### Problem 4\n",
    "\n",
    "FizzBuzz\n",
    "\n",
    "Define a function with a parameter N\n",
    "\n",
    "fizz_buzz(n):\n",
    "\n",
    "Prints each integer between 1 and N\n",
    "* if it's divisible with 3\n",
    "    * prints **Fizz**\n",
    "* if it's divisible with 5\n",
    "    * prints **Buzz**\n",
    "* if it's divisible with both 3 and 5\n",
    "    * prints **FizzBuzz**\n",
    "    \n",
    "Ex.\n",
    "```python\n",
    ">>> fizz_buzz(15):\n",
    "1\n",
    "2\n",
    "Fizz\n",
    "4\n",
    "Buzz\n",
    "Fizz\n",
    "7\n",
    "8\n",
    "Fizz\n",
    "Buzz\n",
    "11\n",
    "Fizz\n",
    "13\n",
    "14\n",
    "FizzBuzz\n",
    "\n",
    "```"
   ]
  },
  {
   "cell_type": "markdown",
   "metadata": {},
   "source": [
    "### Problem 5\n",
    "\n",
    "You have a list of servers, with cpu counts and ram, defined in the next cell.\n",
    "\n",
    "Iterate through the list and:\n",
    "* double the number of cpus for each server\n",
    "* divide the memory in half, but if it's gets smaller than 1, double it. "
   ]
  },
  {
   "cell_type": "code",
   "execution_count": null,
   "metadata": {},
   "outputs": [],
   "source": [
    "servers = [\n",
    "    {\n",
    "        'name': 'micro',\n",
    "        'cpus': 2,\n",
    "        'ram': 1\n",
    "    },\n",
    "    {\n",
    "        'name': 'low',\n",
    "        'cpus': 4,\n",
    "        'ram': 4\n",
    "    },\n",
    "    {\n",
    "        'name': 'mid',\n",
    "        'cpus': 8,\n",
    "        'ram': 16\n",
    "    },\n",
    "    {\n",
    "        'name': 'ultra',\n",
    "        'cpus': 32,\n",
    "        'ram': 128\n",
    "    }\n",
    "]"
   ]
  },
  {
   "cell_type": "code",
   "execution_count": null,
   "metadata": {},
   "outputs": [],
   "source": []
  }
 ],
 "metadata": {
  "kernelspec": {
   "display_name": "Python 3",
   "language": "python",
   "name": "python3"
  },
  "language_info": {
   "codemirror_mode": {
    "name": "ipython",
    "version": 3
   },
   "file_extension": ".py",
   "mimetype": "text/x-python",
   "name": "python",
   "nbconvert_exporter": "python",
   "pygments_lexer": "ipython3",
   "version": "3.6.5"
  }
 },
 "nbformat": 4,
 "nbformat_minor": 2
}
