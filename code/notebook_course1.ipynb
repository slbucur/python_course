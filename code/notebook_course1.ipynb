{
 "cells": [
  {
   "cell_type": "markdown",
   "metadata": {},
   "source": [
    "## Strings"
   ]
  },
  {
   "cell_type": "code",
   "execution_count": null,
   "metadata": {},
   "outputs": [],
   "source": [
    "a = 'Banana'\n",
    "print(a) # a string - sequence of characters\n",
    "print(type(a)) # a string"
   ]
  },
  {
   "cell_type": "markdown",
   "metadata": {},
   "source": [
    "## Integers"
   ]
  },
  {
   "cell_type": "code",
   "execution_count": 1,
   "metadata": {},
   "outputs": [
    {
     "name": "stdout",
     "output_type": "stream",
     "text": [
      "3\n"
     ]
    }
   ],
   "source": [
    "a = 1\n",
    "b = 2\n",
    "print(a + b) # a and be are integers"
   ]
  },
  {
   "cell_type": "code",
   "execution_count": 2,
   "metadata": {},
   "outputs": [
    {
     "name": "stdout",
     "output_type": "stream",
     "text": [
      "3.6\n"
     ]
    }
   ],
   "source": [
    "a = 18\n",
    "b = 5\n",
    "print(a / b) # dividing a over b gives a float (rational number)"
   ]
  },
  {
   "cell_type": "code",
   "execution_count": 3,
   "metadata": {},
   "outputs": [
    {
     "name": "stdout",
     "output_type": "stream",
     "text": [
      "3\n"
     ]
    }
   ],
   "source": [
    "# for integer division use //\n",
    "print(a // b)"
   ]
  },
  {
   "cell_type": "markdown",
   "metadata": {},
   "source": [
    "## Tuple\n",
    "\n",
    "A sequence of things. Once initialized it can't change: `immutable`."
   ]
  },
  {
   "cell_type": "code",
   "execution_count": null,
   "metadata": {},
   "outputs": [],
   "source": [
    "fruits = ('mango', 'banana', 'apple')\n",
    "print(','.join(fruits)) # a basket of fruits (actually a string)\n",
    "\n",
    "fruits[0] = 'pear' # this will error out"
   ]
  },
  {
   "cell_type": "markdown",
   "metadata": {},
   "source": [
    "## List\n",
    "Also a sequence of things. A list can change\n",
    "* add items\n",
    "* remove item\n",
    "* change items"
   ]
  },
  {
   "cell_type": "code",
   "execution_count": null,
   "metadata": {},
   "outputs": [],
   "source": [
    "fruits = ['mango', 'banana', 'apple', 'monkey']\n",
    "\n",
    "# what's that monkey doing there?\n",
    "del fruits[3] # as you can see, python is 0 indexed\n",
    "\n",
    "fruits.append('pear')\n",
    "print(','.join(fruits)) # a basket of fruits (actually a string)"
   ]
  },
  {
   "cell_type": "markdown",
   "metadata": {},
   "source": [
    "## Dictionary\n",
    "\n",
    "A map with keys and values"
   ]
  },
  {
   "cell_type": "code",
   "execution_count": null,
   "metadata": {},
   "outputs": [],
   "source": [
    "bank_account = {\n",
    "    'Joe': 1,\n",
    "    'Bill': 72_000_000_000, # python 3 syntax\n",
    "}\n",
    "\n",
    "print(bank_account['Joe'])\n",
    "print(bank_account['Bill'])"
   ]
  },
  {
   "cell_type": "markdown",
   "metadata": {},
   "source": [
    "## Objects\n",
    "\n",
    "What do all these variables have in common?\n",
    "They are **objects**\n",
    "\n",
    "---\n",
    "\n",
    "Everything in python is an object:\n",
    "\n",
    "* variables\n",
    "* functions\n",
    "* classes\n",
    "* modules\n",
    "\n",
    "---\n",
    "\n",
    "_But what is an object?_\n",
    "\n",
    "A structure with that holds **data** and has **properties**\n",
    "\n",
    "Note:\n",
    "Yes, it's that simple. We're not going into Object Oriented Programming\n",
    "just yet.\n",
    "\n",
    "---\n",
    "\n",
    "Let's take a basic example, and Integer.\n",
    "\n",
    "It holds a value, a natural number:\n",
    "* 0, 1, 2, 3 ... n\n",
    "* -1, -2, -3, ... -n\n",
    "\n",
    "---\n",
    "\n",
    "And it has a bunch of properties:\n",
    "* you can **add** another integer to it => which gives another integer\n",
    "* **subtract** another integer\n",
    "* **multiply**\n",
    "* **divide**"
   ]
  },
  {
   "cell_type": "markdown",
   "metadata": {},
   "source": [
    "Holds a value:"
   ]
  },
  {
   "cell_type": "code",
   "execution_count": 4,
   "metadata": {},
   "outputs": [],
   "source": [
    "a = 1"
   ]
  },
  {
   "cell_type": "markdown",
   "metadata": {},
   "source": [
    "Add another integer"
   ]
  },
  {
   "cell_type": "code",
   "execution_count": 5,
   "metadata": {},
   "outputs": [
    {
     "name": "stdout",
     "output_type": "stream",
     "text": [
      "3\n"
     ]
    }
   ],
   "source": [
    "a = 1\n",
    "b = 2\n",
    "print(a + b)"
   ]
  },
  {
   "cell_type": "markdown",
   "metadata": {},
   "source": [
    "Subtract another integer:"
   ]
  },
  {
   "cell_type": "code",
   "execution_count": null,
   "metadata": {},
   "outputs": [],
   "source": [
    "a = 1\n",
    "b = 2\n",
    "print(a - b)"
   ]
  },
  {
   "cell_type": "markdown",
   "metadata": {},
   "source": [
    "Multiply"
   ]
  },
  {
   "cell_type": "code",
   "execution_count": null,
   "metadata": {},
   "outputs": [],
   "source": [
    "a = 11\n",
    "b = 653\n",
    "print(a * b)"
   ]
  },
  {
   "cell_type": "markdown",
   "metadata": {},
   "source": [
    "Divide"
   ]
  },
  {
   "cell_type": "code",
   "execution_count": null,
   "metadata": {},
   "outputs": [],
   "source": [
    "Divide"
   ]
  },
  {
   "cell_type": "code",
   "execution_count": 7,
   "metadata": {},
   "outputs": [
    {
     "name": "stdout",
     "output_type": "stream",
     "text": [
      "7.5\n",
      "7\n"
     ]
    }
   ],
   "source": [
    "a = 15\n",
    "b = 2\n",
    "print(a / b) # floating point (decimal) division\n",
    "print(a // b) # integer division"
   ]
  },
  {
   "cell_type": "markdown",
   "metadata": {},
   "source": [
    "There are more properties an integer can have."
   ]
  },
  {
   "cell_type": "code",
   "execution_count": 8,
   "metadata": {},
   "outputs": [
    {
     "name": "stdout",
     "output_type": "stream",
     "text": [
      "Help on class int in module builtins:\n",
      "\n",
      "class int(object)\n",
      " |  int(x=0) -> integer\n",
      " |  int(x, base=10) -> integer\n",
      " |  \n",
      " |  Convert a number or string to an integer, or return 0 if no arguments\n",
      " |  are given.  If x is a number, return x.__int__().  For floating point\n",
      " |  numbers, this truncates towards zero.\n",
      " |  \n",
      " |  If x is not a number or if base is given, then x must be a string,\n",
      " |  bytes, or bytearray instance representing an integer literal in the\n",
      " |  given base.  The literal can be preceded by '+' or '-' and be surrounded\n",
      " |  by whitespace.  The base defaults to 10.  Valid bases are 0 and 2-36.\n",
      " |  Base 0 means to interpret the base from the string as an integer literal.\n",
      " |  >>> int('0b100', base=0)\n",
      " |  4\n",
      " |  \n",
      " |  Methods defined here:\n",
      " |  \n",
      " |  __abs__(self, /)\n",
      " |      abs(self)\n",
      " |  \n",
      " |  __add__(self, value, /)\n",
      " |      Return self+value.\n",
      " |  \n",
      " |  __and__(self, value, /)\n",
      " |      Return self&value.\n",
      " |  \n",
      " |  __bool__(self, /)\n",
      " |      self != 0\n",
      " |  \n",
      " |  __ceil__(...)\n",
      " |      Ceiling of an Integral returns itself.\n",
      " |  \n",
      " |  __divmod__(self, value, /)\n",
      " |      Return divmod(self, value).\n",
      " |  \n",
      " |  __eq__(self, value, /)\n",
      " |      Return self==value.\n",
      " |  \n",
      " |  __float__(self, /)\n",
      " |      float(self)\n",
      " |  \n",
      " |  __floor__(...)\n",
      " |      Flooring an Integral returns itself.\n",
      " |  \n",
      " |  __floordiv__(self, value, /)\n",
      " |      Return self//value.\n",
      " |  \n",
      " |  __format__(...)\n",
      " |      default object formatter\n",
      " |  \n",
      " |  __ge__(self, value, /)\n",
      " |      Return self>=value.\n",
      " |  \n",
      " |  __getattribute__(self, name, /)\n",
      " |      Return getattr(self, name).\n",
      " |  \n",
      " |  __getnewargs__(...)\n",
      " |  \n",
      " |  __gt__(self, value, /)\n",
      " |      Return self>value.\n",
      " |  \n",
      " |  __hash__(self, /)\n",
      " |      Return hash(self).\n",
      " |  \n",
      " |  __index__(self, /)\n",
      " |      Return self converted to an integer, if self is suitable for use as an index into a list.\n",
      " |  \n",
      " |  __int__(self, /)\n",
      " |      int(self)\n",
      " |  \n",
      " |  __invert__(self, /)\n",
      " |      ~self\n",
      " |  \n",
      " |  __le__(self, value, /)\n",
      " |      Return self<=value.\n",
      " |  \n",
      " |  __lshift__(self, value, /)\n",
      " |      Return self<<value.\n",
      " |  \n",
      " |  __lt__(self, value, /)\n",
      " |      Return self<value.\n",
      " |  \n",
      " |  __mod__(self, value, /)\n",
      " |      Return self%value.\n",
      " |  \n",
      " |  __mul__(self, value, /)\n",
      " |      Return self*value.\n",
      " |  \n",
      " |  __ne__(self, value, /)\n",
      " |      Return self!=value.\n",
      " |  \n",
      " |  __neg__(self, /)\n",
      " |      -self\n",
      " |  \n",
      " |  __new__(*args, **kwargs) from builtins.type\n",
      " |      Create and return a new object.  See help(type) for accurate signature.\n",
      " |  \n",
      " |  __or__(self, value, /)\n",
      " |      Return self|value.\n",
      " |  \n",
      " |  __pos__(self, /)\n",
      " |      +self\n",
      " |  \n",
      " |  __pow__(self, value, mod=None, /)\n",
      " |      Return pow(self, value, mod).\n",
      " |  \n",
      " |  __radd__(self, value, /)\n",
      " |      Return value+self.\n",
      " |  \n",
      " |  __rand__(self, value, /)\n",
      " |      Return value&self.\n",
      " |  \n",
      " |  __rdivmod__(self, value, /)\n",
      " |      Return divmod(value, self).\n",
      " |  \n",
      " |  __repr__(self, /)\n",
      " |      Return repr(self).\n",
      " |  \n",
      " |  __rfloordiv__(self, value, /)\n",
      " |      Return value//self.\n",
      " |  \n",
      " |  __rlshift__(self, value, /)\n",
      " |      Return value<<self.\n",
      " |  \n",
      " |  __rmod__(self, value, /)\n",
      " |      Return value%self.\n",
      " |  \n",
      " |  __rmul__(self, value, /)\n",
      " |      Return value*self.\n",
      " |  \n",
      " |  __ror__(self, value, /)\n",
      " |      Return value|self.\n",
      " |  \n",
      " |  __round__(...)\n",
      " |      Rounding an Integral returns itself.\n",
      " |      Rounding with an ndigits argument also returns an integer.\n",
      " |  \n",
      " |  __rpow__(self, value, mod=None, /)\n",
      " |      Return pow(value, self, mod).\n",
      " |  \n",
      " |  __rrshift__(self, value, /)\n",
      " |      Return value>>self.\n",
      " |  \n",
      " |  __rshift__(self, value, /)\n",
      " |      Return self>>value.\n",
      " |  \n",
      " |  __rsub__(self, value, /)\n",
      " |      Return value-self.\n",
      " |  \n",
      " |  __rtruediv__(self, value, /)\n",
      " |      Return value/self.\n",
      " |  \n",
      " |  __rxor__(self, value, /)\n",
      " |      Return value^self.\n",
      " |  \n",
      " |  __sizeof__(...)\n",
      " |      Returns size in memory, in bytes\n",
      " |  \n",
      " |  __str__(self, /)\n",
      " |      Return str(self).\n",
      " |  \n",
      " |  __sub__(self, value, /)\n",
      " |      Return self-value.\n",
      " |  \n",
      " |  __truediv__(self, value, /)\n",
      " |      Return self/value.\n",
      " |  \n",
      " |  __trunc__(...)\n",
      " |      Truncating an Integral returns itself.\n",
      " |  \n",
      " |  __xor__(self, value, /)\n",
      " |      Return self^value.\n",
      " |  \n",
      " |  bit_length(...)\n",
      " |      int.bit_length() -> int\n",
      " |      \n",
      " |      Number of bits necessary to represent self in binary.\n",
      " |      >>> bin(37)\n",
      " |      '0b100101'\n",
      " |      >>> (37).bit_length()\n",
      " |      6\n",
      " |  \n",
      " |  conjugate(...)\n",
      " |      Returns self, the complex conjugate of any int.\n",
      " |  \n",
      " |  from_bytes(...) from builtins.type\n",
      " |      int.from_bytes(bytes, byteorder, *, signed=False) -> int\n",
      " |      \n",
      " |      Return the integer represented by the given array of bytes.\n",
      " |      \n",
      " |      The bytes argument must be a bytes-like object (e.g. bytes or bytearray).\n",
      " |      \n",
      " |      The byteorder argument determines the byte order used to represent the\n",
      " |      integer.  If byteorder is 'big', the most significant byte is at the\n",
      " |      beginning of the byte array.  If byteorder is 'little', the most\n",
      " |      significant byte is at the end of the byte array.  To request the native\n",
      " |      byte order of the host system, use `sys.byteorder' as the byte order value.\n",
      " |      \n",
      " |      The signed keyword-only argument indicates whether two's complement is\n",
      " |      used to represent the integer.\n",
      " |  \n",
      " |  to_bytes(...)\n",
      " |      int.to_bytes(length, byteorder, *, signed=False) -> bytes\n",
      " |      \n",
      " |      Return an array of bytes representing an integer.\n",
      " |      \n",
      " |      The integer is represented using length bytes.  An OverflowError is\n",
      " |      raised if the integer is not representable with the given number of\n",
      " |      bytes.\n",
      " |      \n",
      " |      The byteorder argument determines the byte order used to represent the\n",
      " |      integer.  If byteorder is 'big', the most significant byte is at the\n",
      " |      beginning of the byte array.  If byteorder is 'little', the most\n",
      " |      significant byte is at the end of the byte array.  To request the native\n",
      " |      byte order of the host system, use `sys.byteorder' as the byte order value.\n",
      " |      \n",
      " |      The signed keyword-only argument determines whether two's complement is\n",
      " |      used to represent the integer.  If signed is False and a negative integer\n",
      " |      is given, an OverflowError is raised.\n",
      " |  \n",
      " |  ----------------------------------------------------------------------\n",
      " |  Data descriptors defined here:\n",
      " |  \n",
      " |  denominator\n",
      " |      the denominator of a rational number in lowest terms\n",
      " |  \n",
      " |  imag\n",
      " |      the imaginary part of a complex number\n",
      " |  \n",
      " |  numerator\n",
      " |      the numerator of a rational number in lowest terms\n",
      " |  \n",
      " |  real\n",
      " |      the real part of a complex number\n",
      "\n"
     ]
    }
   ],
   "source": [
    "help(int)"
   ]
  },
  {
   "cell_type": "markdown",
   "metadata": {},
   "source": [
    "Try `help` for some other variables:\n",
    "\n",
    "* tuple\n",
    "* list\n",
    "* string\n",
    "* dictionary"
   ]
  },
  {
   "cell_type": "code",
   "execution_count": null,
   "metadata": {},
   "outputs": [],
   "source": [
    "help(tuple)"
   ]
  },
  {
   "cell_type": "markdown",
   "metadata": {},
   "source": [
    "## Control flow"
   ]
  },
  {
   "cell_type": "markdown",
   "metadata": {},
   "source": [
    "Think of it like a recipe:\n",
    "You have:\n",
    "* two eggs\n",
    "* bacon\n",
    "* bowl\n",
    "* a stove\n",
    "* and a pan\n",
    "\n",
    "---\n",
    "\n",
    "Steps:\n",
    "1. Break the eggs\n",
    "2. Cut the bacon\n",
    "3. Mix them in the bowl\n",
    "4. Start the stove\n",
    "5. Place pan on stove\n",
    "6. Wait for the pan to heat up\n",
    "7. Put the mix into the bowl\n",
    "8. Scramble\n",
    "9. Enjoy 🍳\n",
    "\n",
    "```python\n",
    "eggs = [egg1, egg2]\n",
    "bacon, bowl, stove, pan\n",
    "\n",
    "ingredients = []\n",
    "\n",
    "for egg in eggs:\n",
    "    egg.break()\n",
    "    if egg.is_good():\n",
    "        ingredients.append(egg)\n",
    "\n",
    "if ingredients.empty():\n",
    "    # we have no good eggs\n",
    "    order_pizza()\n",
    "```"
   ]
  },
  {
   "cell_type": "markdown",
   "metadata": {},
   "source": [
    "### Instructions\n",
    "Each line contains one instruction.\n",
    "You can do multiple instructions using the `;` operator, but it's not\n",
    "recommended."
   ]
  },
  {
   "cell_type": "code",
   "execution_count": 1,
   "metadata": {},
   "outputs": [],
   "source": [
    "a = 1\n",
    "b = 2; c = 2"
   ]
  },
  {
   "cell_type": "markdown",
   "metadata": {},
   "source": [
    "### Line ordering\n",
    "\n",
    "Instructions run in order they are ran.\n",
    "If an instruction **a** is above instruction **b**, by the time we get\n",
    "to **b**, **a** already ran."
   ]
  },
  {
   "cell_type": "code",
   "execution_count": 3,
   "metadata": {},
   "outputs": [
    {
     "ename": "NameError",
     "evalue": "name 'bx' is not defined",
     "output_type": "error",
     "traceback": [
      "\u001b[1;31m---------------------------------------------------------------------------\u001b[0m",
      "\u001b[1;31mNameError\u001b[0m                                 Traceback (most recent call last)",
      "\u001b[1;32m<ipython-input-3-fe45bacf5d2e>\u001b[0m in \u001b[0;36m<module>\u001b[1;34m()\u001b[0m\n\u001b[0;32m      1\u001b[0m \u001b[0max\u001b[0m \u001b[1;33m=\u001b[0m \u001b[1;36m1\u001b[0m\u001b[1;33m\u001b[0m\u001b[0m\n\u001b[1;32m----> 2\u001b[1;33m \u001b[0mprint\u001b[0m\u001b[1;33m(\u001b[0m\u001b[0mbx\u001b[0m\u001b[1;33m)\u001b[0m \u001b[1;31m# error, b is not initialized\u001b[0m\u001b[1;33m\u001b[0m\u001b[0m\n\u001b[0m\u001b[0;32m      3\u001b[0m \u001b[0mbx\u001b[0m \u001b[1;33m=\u001b[0m \u001b[1;36m2\u001b[0m\u001b[1;33m\u001b[0m\u001b[0m\n\u001b[0;32m      4\u001b[0m \u001b[0mprint\u001b[0m\u001b[1;33m(\u001b[0m\u001b[0max\u001b[0m\u001b[1;33m)\u001b[0m \u001b[1;31m# a is initialized before b\u001b[0m\u001b[1;33m\u001b[0m\u001b[0m\n",
      "\u001b[1;31mNameError\u001b[0m: name 'bx' is not defined"
     ]
    }
   ],
   "source": [
    "ax = 1\n",
    "print(bx) # error, b is not initialized\n",
    "bx = 2\n",
    "print(ax) # a is initialized before b"
   ]
  },
  {
   "cell_type": "markdown",
   "metadata": {},
   "source": [
    "### Conditions\n",
    "\n",
    "#### if/else\n",
    "\n",
    "If an **if** is satisfied, the code below it runs.\n",
    "\n",
    "Otherwise, the one below **else** runs."
   ]
  },
  {
   "cell_type": "code",
   "execution_count": 4,
   "metadata": {},
   "outputs": [
    {
     "name": "stdout",
     "output_type": "stream",
     "text": [
      "Better luck next time\n"
     ]
    }
   ],
   "source": [
    "price = 10\n",
    "cash_in_pocket = 5\n",
    "\n",
    "if cash_in_pocket >= price:\n",
    "    print('You can pay with the money in your pocket')\n",
    "else:\n",
    "    print('Better luck next time')"
   ]
  },
  {
   "cell_type": "markdown",
   "metadata": {},
   "source": [
    "#### elif\n",
    "\n",
    "**elif** can be used to add multiple conditions to the standard\n",
    "**if/else**."
   ]
  },
  {
   "cell_type": "code",
   "execution_count": 6,
   "metadata": {},
   "outputs": [
    {
     "name": "stdout",
     "output_type": "stream",
     "text": [
      "You can pay with the money in your pocket and your wallet\n"
     ]
    }
   ],
   "source": [
    "price = 10\n",
    "cash_in_pocket = 5\n",
    "cash_in_wallet = 5\n",
    "\n",
    "if cash_in_pocket >= price:\n",
    "    print('You can pay with the money in your pocket')\n",
    "elif cash_in_pocket + cash_in_wallet >= price:\n",
    "    print('You can pay with the money in your pocket and your wallet')\n",
    "else:\n",
    "    print('Better luck next time')"
   ]
  },
  {
   "cell_type": "markdown",
   "metadata": {},
   "source": [
    "### Whitespace\n",
    "\n",
    "### Only one rule\n",
    "Use 4 spaces for indentation\n",
    "\n",
    "You can also use tabs, or other types of indentation, it will work,\n",
    "but to make your life easy, just use 4 spaces.\n",
    "It's the standard in python, as stated in PEP8 (The style guide for\n",
    "python, used by almost all modern python code)\n",
    "\n",
    "Whitespace is relevant in python:\n",
    "* used to define code blocks:\n",
    "  * if\n",
    "  * while\n",
    "  * for\n",
    "  * functions\n",
    "  * classes\n",
    "* when the lines are indented under one of these blocks,\n",
    "python interprets them as code blocks"
   ]
  },
  {
   "cell_type": "markdown",
   "metadata": {},
   "source": [
    "Which one is right and why?"
   ]
  },
  {
   "cell_type": "code",
   "execution_count": 7,
   "metadata": {},
   "outputs": [
    {
     "name": "stdout",
     "output_type": "stream",
     "text": [
      "Tring to pay\n",
      "Item bought\n"
     ]
    }
   ],
   "source": [
    "price = 10\n",
    "cash = 5\n",
    "print('Tring to pay')\n",
    "if cash >= price:\n",
    "    print('You can buy the item')\n",
    "print('Item bought')"
   ]
  },
  {
   "cell_type": "code",
   "execution_count": 8,
   "metadata": {},
   "outputs": [
    {
     "name": "stdout",
     "output_type": "stream",
     "text": [
      "Tring to pay\n"
     ]
    }
   ],
   "source": [
    "price = 10\n",
    "cash = 5\n",
    "print('Tring to pay')\n",
    "if cash >= price:\n",
    "    print('You can buy the item')\n",
    "    print('Item bought')"
   ]
  },
  {
   "cell_type": "markdown",
   "metadata": {},
   "source": [
    "### Loop the loop"
   ]
  },
  {
   "cell_type": "markdown",
   "metadata": {},
   "source": [
    "Loops are used to iterate. You have two options:\n",
    "* **for**\n",
    "* **while**\n",
    "\n",
    "Note:\n",
    "You can always create a for with a while, but not the other way around."
   ]
  },
  {
   "cell_type": "markdown",
   "metadata": {},
   "source": [
    "### FOR"
   ]
  },
  {
   "cell_type": "code",
   "execution_count": 9,
   "metadata": {},
   "outputs": [
    {
     "name": "stdout",
     "output_type": "stream",
     "text": [
      "I like the fruit named banana\n",
      "I like the fruit named strawberry\n",
      "I like the fruit named orange\n",
      "I like the fruit named plum\n"
     ]
    }
   ],
   "source": [
    "fruits = ['banana', 'strawberry', 'orange', 'plum']\n",
    "\n",
    "for fruit in fruits:\n",
    "    # python 3.6 f-strings\n",
    "    print(f'I like the fruit named {fruit}')"
   ]
  },
  {
   "cell_type": "markdown",
   "metadata": {},
   "source": [
    "### Side note - String formatting\n",
    "\n",
    "String formatting is displaying an object (as a string) in another string.\n",
    "\n",
    "##### The `.format` function"
   ]
  },
  {
   "cell_type": "code",
   "execution_count": 10,
   "metadata": {},
   "outputs": [
    {
     "name": "stdout",
     "output_type": "stream",
     "text": [
      "The item costs 10.956 dollars\n",
      "The item costs 10.96 dollars\n"
     ]
    }
   ],
   "source": [
    "# the standard way since python 2.6\n",
    "# has more formatting options than %\n",
    "price = 10.956\n",
    "print('The item costs {} dollars'.format(price))\n",
    "# bonus, show only 2 decimals\n",
    "print('The item costs {0:.2f} dollars'.format(price))"
   ]
  },
  {
   "cell_type": "markdown",
   "metadata": {},
   "source": [
    "##### F-strings"
   ]
  },
  {
   "cell_type": "code",
   "execution_count": 12,
   "metadata": {},
   "outputs": [
    {
     "name": "stdout",
     "output_type": "stream",
     "text": [
      "The item costs 10.956 dollars\n",
      "The item costs 10.96 dollars\n"
     ]
    }
   ],
   "source": [
    "# new in python 3.6\n",
    "price = 10.956\n",
    "print(f'The item costs {price} dollars')\n",
    "print(f'The item costs {price:.2f} dollars')"
   ]
  },
  {
   "cell_type": "markdown",
   "metadata": {},
   "source": [
    "##### Percent formatting"
   ]
  },
  {
   "cell_type": "code",
   "execution_count": 13,
   "metadata": {},
   "outputs": [
    {
     "name": "stdout",
     "output_type": "stream",
     "text": [
      "The item costs 10.956 dollars\n",
      "The item costs 10.96 dollars\n"
     ]
    }
   ],
   "source": [
    "# similar to the one in C\n",
    "# used in older applications and libraries\n",
    "# not recommended for new apps\n",
    "price = 10.956\n",
    "print('The item costs %s dollars' % price)\n",
    "print('The item costs %.2f dollars' % price)"
   ]
  },
  {
   "cell_type": "markdown",
   "metadata": {},
   "source": [
    "##### String adding"
   ]
  },
  {
   "cell_type": "code",
   "execution_count": 14,
   "metadata": {},
   "outputs": [
    {
     "name": "stdout",
     "output_type": "stream",
     "text": [
      "The item costs 10.956 dollars\n"
     ]
    }
   ],
   "source": [
    "# because it quickly becomes unreadable\n",
    "# you also need to cast any other type but string\n",
    "price = 10.956\n",
    "print('The item costs ' + str(price) + ' dollars')"
   ]
  },
  {
   "cell_type": "markdown",
   "metadata": {},
   "source": [
    "#### Back to loops"
   ]
  },
  {
   "cell_type": "code",
   "execution_count": 15,
   "metadata": {},
   "outputs": [
    {
     "name": "stdout",
     "output_type": "stream",
     "text": [
      "0x0=0\n",
      "0x1=0\n",
      "0x2=0\n",
      "0x3=0\n",
      "1x0=0\n",
      "1x1=1\n",
      "1x2=2\n",
      "1x3=3\n",
      "2x0=0\n",
      "2x1=2\n",
      "2x2=4\n",
      "2x3=6\n",
      "3x0=0\n",
      "3x1=3\n",
      "3x2=6\n",
      "3x3=9\n"
     ]
    }
   ],
   "source": [
    "# multiplying board\n",
    "\n",
    "for x in range(4):\n",
    "    for y in range(4):\n",
    "        print(f'{x}x{y}={x * y}')"
   ]
  },
  {
   "cell_type": "markdown",
   "metadata": {},
   "source": [
    "This might be useful to visualize:\n",
    "Go to http://www.pythontutor.com/visualize.html and copy\n",
    "the code."
   ]
  },
  {
   "cell_type": "markdown",
   "metadata": {},
   "source": [
    "#### While\n",
    "While loops the code as long as the condition is `True`"
   ]
  },
  {
   "cell_type": "code",
   "execution_count": 16,
   "metadata": {},
   "outputs": [
    {
     "name": "stdout",
     "output_type": "stream",
     "text": [
      "soup plate\n",
      "small plate\n",
      "big plate\n"
     ]
    }
   ],
   "source": [
    "#    \\___/    -> soup plate\n",
    "#   *-----*   -> small plate\n",
    "#  *-------*  -> big plate\n",
    "\n",
    "plates = ['soup plate', 'small plate', 'big plate']\n",
    "\n",
    "no_plates = len(plates)\n",
    "while no_plates > 0:\n",
    "    next_plate = plates.pop(0)\n",
    "    print(next_plate)\n",
    "    no_plates = len(plates)"
   ]
  },
  {
   "cell_type": "markdown",
   "metadata": {},
   "source": [
    "#### When to use `while`?\n",
    "While is more powerful than a for, but you usually need more lines\n",
    "of code to use it."
   ]
  },
  {
   "cell_type": "code",
   "execution_count": 18,
   "metadata": {},
   "outputs": [
    {
     "name": "stdout",
     "output_type": "stream",
     "text": [
      "I like the fruit named banana\n",
      "I like the fruit named strawberry\n",
      "I like the fruit named plum\n",
      "I like the fruit named coconut\n",
      "I like the fruit named banana\n",
      "I like the fruit named strawberry\n",
      "I like the fruit named plum\n",
      "I like the fruit named coconut\n"
     ]
    }
   ],
   "source": [
    "fruits = ['banana', 'strawberry', 'plum', 'coconut']\n",
    "\n",
    "# with while\n",
    "index = 0\n",
    "while index < len(fruits):\n",
    "    fruit = fruits[index]\n",
    "    print('I like the fruit named {}'.format(fruit))\n",
    "    index += 1\n",
    "\n",
    "# with for\n",
    "for fruit in fruits:\n",
    "    print('I like the fruit named {}'.format(fruit))"
   ]
  },
  {
   "cell_type": "markdown",
   "metadata": {},
   "source": [
    "### List comprehensions\n",
    "A powerful way to manipulate lists in python.\n",
    "Easier than for for simple things.\n",
    "\n",
    "* Access items from a list"
   ]
  },
  {
   "cell_type": "code",
   "execution_count": 19,
   "metadata": {},
   "outputs": [
    {
     "name": "stdout",
     "output_type": "stream",
     "text": [
      "🍌\n",
      "🍏\n",
      "🍐\n",
      "['🍌', '🍓']\n",
      "['🍓', '🍏']\n",
      "['🍏', '🍐']\n"
     ]
    }
   ],
   "source": [
    "fruits = ['🍌', '🍓', '🍏', '🍐']\n",
    "\n",
    "# indexing starts at 0\n",
    "print(fruits[0]) # first item 🍌\n",
    "print(fruits[2]) # third item\n",
    "print(fruits[-1]) # last item\n",
    "\n",
    "print(fruits[:2]) # first two items\n",
    "print(fruits[1:3]) # 2nd and 3rd item\n",
    "print(fruits[-2:]) # last two items"
   ]
  },
  {
   "cell_type": "markdown",
   "metadata": {},
   "source": [
    "* Make another list"
   ]
  },
  {
   "cell_type": "code",
   "execution_count": 20,
   "metadata": {},
   "outputs": [
    {
     "name": "stdout",
     "output_type": "stream",
     "text": [
      "['🍌🍌🍌', '🍓🍓🍓', '🍏🍏🍏', '🍐🍐🍐']\n"
     ]
    }
   ],
   "source": [
    "fruits = ['🍌', '🍓', '🍏', '🍐']\n",
    "# 'a' * 4 = 'aaaa'\n",
    "fruit_packs = [ fruit * 3 for fruit in fruits]\n",
    "\n",
    "print(fruit_packs)"
   ]
  },
  {
   "cell_type": "markdown",
   "metadata": {},
   "source": [
    "* Filter a list"
   ]
  },
  {
   "cell_type": "code",
   "execution_count": 22,
   "metadata": {},
   "outputs": [
    {
     "name": "stdout",
     "output_type": "stream",
     "text": [
      "['🍌', '🍓', '🍏', '🍐']\n"
     ]
    }
   ],
   "source": [
    "fruits = ['🍌', '🍓', '🍏', '🍐', '🍺', '🍷']\n",
    "not_actually_fruits = ['🍺', '🍷']\n",
    "\n",
    "actual_fruits = [\n",
    "    fruit\n",
    "    for fruit in fruits\n",
    "    if fruit not in not_actually_fruits\n",
    "]\n",
    "print(actual_fruits)"
   ]
  },
  {
   "cell_type": "markdown",
   "metadata": {},
   "source": [
    "Multiplying a string by a number will duplicate that string.\n",
    "\n",
    "As you can see, the filtering gets a bit complicated.\n",
    "If the code seems unreadable, don't be afraid to use a proper for."
   ]
  },
  {
   "cell_type": "markdown",
   "metadata": {},
   "source": [
    "#### Functions\n",
    "Functions are ways to couple common logic in a single\n",
    " abstraction.\n",
    "\n",
    "You have already seen them in the last slides.\n",
    "\n",
    "* `print`\n",
    "* `len`\n",
    "* `pop` (actually a method)\n",
    "\n",
    "Note:\n",
    "We'll get to methods soon enough.\n",
    "\n",
    "---\n",
    "\n",
    "How to use a function?\n",
    "You use `<function_name>(argument1, argument2, ...)`\n",
    "\n",
    "You will also see this quite often:\n",
    "```python\n",
    "function_name(*args, **kwargs)\n",
    "```"
   ]
  },
  {
   "cell_type": "markdown",
   "metadata": {},
   "source": [
    "##### Args - Arguments\n",
    "\n",
    "* also called positional\n",
    "* the order of the arguments matters"
   ]
  },
  {
   "cell_type": "code",
   "execution_count": 24,
   "metadata": {},
   "outputs": [
    {
     "name": "stdout",
     "output_type": "stream",
     "text": [
      "This is positional argument 1 This is positional argument 2\n"
     ]
    }
   ],
   "source": [
    "print('This is positional argument 1', 'This is positional argument 2')"
   ]
  },
  {
   "cell_type": "markdown",
   "metadata": {},
   "source": [
    "**print** will take all positional arguments and join them with a\n",
    " **space**."
   ]
  },
  {
   "cell_type": "markdown",
   "metadata": {},
   "source": [
    "##### Kwargs - Keyword arguments"
   ]
  },
  {
   "cell_type": "code",
   "execution_count": 25,
   "metadata": {},
   "outputs": [
    {
     "name": "stdout",
     "output_type": "stream",
     "text": [
      "Positional argument 1,Positional argument 2\n"
     ]
    }
   ],
   "source": [
    "print('Positional argument 1', 'Positional argument 2', sep=',')"
   ]
  },
  {
   "cell_type": "markdown",
   "metadata": {},
   "source": [
    "The **sep** is a keyword argument. It specifies that **print** will\n",
    " separate the positional arguments with **,** instead of **space**.\n",
    "\n",
    "Note:\n",
    "\n",
    "As you can see, you invoke a keyword argument by using\n",
    " `argument_name=argument_value`."
   ]
  },
  {
   "cell_type": "markdown",
   "metadata": {},
   "source": [
    "#### Make your own functions\n",
    "\n",
    "#### With positional"
   ]
  },
  {
   "cell_type": "code",
   "execution_count": 28,
   "metadata": {},
   "outputs": [
    {
     "name": "stdout",
     "output_type": "stream",
     "text": [
      "🍌 is a fruit\n",
      "🍓 is a fruit\n",
      "🍏 is a fruit\n",
      "🍐 is a fruit\n",
      "🍺 is not a fruit\n",
      "🍷 is not a fruit\n"
     ]
    }
   ],
   "source": [
    "def check_fruit(fruit):\n",
    "    if fruit not in ('🍺', '🍷'):\n",
    "        print(f'{fruit} is a fruit')\n",
    "    else:\n",
    "        print(f'{fruit} is not a fruit')\n",
    "\n",
    "fruits = ['🍌', '🍓', '🍏', '🍐', '🍺', '🍷']\n",
    "\n",
    "for fruit in fruits:\n",
    "    check_fruit(fruit)"
   ]
  },
  {
   "cell_type": "markdown",
   "metadata": {},
   "source": [
    "#### With positional and keyword"
   ]
  },
  {
   "cell_type": "code",
   "execution_count": 29,
   "metadata": {},
   "outputs": [
    {
     "name": "stdout",
     "output_type": "stream",
     "text": [
      "🍌 is a fruit\n",
      "🍓 is a fruit\n",
      "🍏 is a fruit\n",
      "🍐 is a fruit\n",
      "🍺 is not a fruit\n",
      "🍷 is not a fruit\n",
      "🌎 is a fruit\n",
      "🍌 is a fruit\n",
      "🍓 is a fruit\n",
      "🍏 is a fruit\n",
      "🍐 is a fruit\n",
      "🍺 is not a fruit\n",
      "🍷 is not a fruit\n",
      "🌎 is not a fruit\n"
     ]
    }
   ],
   "source": [
    "def check_fruit(fruit, bad_fruits=('🍺', '🍷')):\n",
    "    if fruit not in bad_fruits:\n",
    "        print(f'{fruit} is a fruit')\n",
    "    else:\n",
    "        print(f'{fruit} is not a fruit')\n",
    "\n",
    "fruits = ['🍌', '🍓', '🍏', '🍐', '🍺', '🍷', '🌎']\n",
    "# which is right?\n",
    "for fruit in fruits:\n",
    "    check_fruit(fruit)\n",
    "\n",
    "for fruit in fruits:\n",
    "    check_fruit(fruit, bad_fruits=('🍺', '🍷', '🌎'))\n"
   ]
  },
  {
   "cell_type": "markdown",
   "metadata": {},
   "source": [
    "Note:\n",
    "Here we have a second parameter for bad_fruits.\n",
    "\n",
    "The parameter has a default value with the bad_fruit list from the\n",
    "previous slide, but that can be changed by the caller of the function.\n",
    "\n",
    "As you can see, it's useful, because we have an extra bad fruit (🌎)\n",
    "in our list."
   ]
  },
  {
   "cell_type": "markdown",
   "metadata": {},
   "source": [
    "### return\n",
    "* **return** is used to return a value"
   ]
  },
  {
   "cell_type": "code",
   "execution_count": 30,
   "metadata": {},
   "outputs": [
    {
     "name": "stdout",
     "output_type": "stream",
     "text": [
      "🍌 is a fruit\n",
      "🍓 is a fruit\n",
      "🍏 is a fruit\n",
      "🍐 is a fruit\n",
      "🍺 is not a fruit\n",
      "🍷 is not a fruit\n",
      "🌎 is not a fruit\n"
     ]
    }
   ],
   "source": [
    "def check_fruit(fruit, bad_fruits=('🍺', '🍷', '🌎')):\n",
    "    if fruit not in bad_fruits:\n",
    "        return True\n",
    "    else:\n",
    "        return False\n",
    "\n",
    "fruits = ['🍌', '🍓', '🍏', '🍐', '🍺', '🍷', '🌎']\n",
    "\n",
    "for fruit in fruits:\n",
    "    is_fruit = check_fruit(fruit)\n",
    "    if is_fruit:\n",
    "        print(f'{fruit} is a fruit')\n",
    "    else:\n",
    "        print(f'{fruit} is not a fruit')"
   ]
  },
  {
   "cell_type": "markdown",
   "metadata": {},
   "source": [
    "* **return** stops a function"
   ]
  },
  {
   "cell_type": "code",
   "execution_count": 31,
   "metadata": {},
   "outputs": [
    {
     "name": "stdout",
     "output_type": "stream",
     "text": [
      "Searching 🍌\n",
      "banana\n",
      "Searching 🍓\n",
      "🍌 is not 🍓\n",
      "strawberry\n",
      "Searching 🍏\n",
      "🍌 is not 🍏\n",
      "🍓 is not 🍏\n",
      "apple\n"
     ]
    }
   ],
   "source": [
    "def get_fruit_name(searched_fruit):\n",
    "    print(f'Searching {searched_fruit}')\n",
    "    fruit_names = (\n",
    "       ('🍌', 'banana'),\n",
    "       ('🍓' , 'strawberry'),\n",
    "       ('🍏', 'apple')\n",
    "    )\n",
    "\n",
    "    for fruit, fruit_name in fruit_names:\n",
    "        if searched_fruit == fruit:\n",
    "            return fruit_name\n",
    "        else:\n",
    "            print(f'{fruit} is not {searched_fruit}')\n",
    "\n",
    "print(get_fruit_name('🍌'))\n",
    "print(get_fruit_name('🍓'))\n",
    "print(get_fruit_name('🍏'))"
   ]
  },
  {
   "cell_type": "markdown",
   "metadata": {},
   "source": [
    "# Hashtag v1"
   ]
  },
  {
   "cell_type": "code",
   "execution_count": 34,
   "metadata": {},
   "outputs": [
    {
     "name": "stdout",
     "output_type": "stream",
     "text": [
      "Sending tweet:\n",
      "I love exotic fruits #mango\n",
      "Sending tweet:\n",
      "Local foods are the best #pear\n",
      "Sending tweet:\n",
      "Why not vegetables #celery\n"
     ]
    }
   ],
   "source": [
    "def send_tweets():\n",
    "    tweets = [\n",
    "        {'message': 'I love exotic fruits', 'hashtag': '#mango'},\n",
    "        {'message': 'Local foods are the best', 'hashtag': '#pear'},\n",
    "        {'message': 'Why not vegetables', 'hashtag': '#celery'}\n",
    "    ]\n",
    "\n",
    "    for tweet in tweets:\n",
    "        print('Sending tweet:')\n",
    "        print('{} {}'.format(tweet['message'], tweet['hashtag']))\n",
    "\n",
    "send_tweets()"
   ]
  },
  {
   "cell_type": "code",
   "execution_count": null,
   "metadata": {},
   "outputs": [],
   "source": []
  }
 ],
 "metadata": {
  "kernelspec": {
   "display_name": "Python 3",
   "language": "python",
   "name": "python3"
  },
  "language_info": {
   "codemirror_mode": {
    "name": "ipython",
    "version": 3
   },
   "file_extension": ".py",
   "mimetype": "text/x-python",
   "name": "python",
   "nbconvert_exporter": "python",
   "pygments_lexer": "ipython3",
   "version": "3.6.5"
  }
 },
 "nbformat": 4,
 "nbformat_minor": 2
}
