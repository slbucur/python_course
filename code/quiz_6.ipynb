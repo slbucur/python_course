{
 "cells": [
  {
   "cell_type": "markdown",
   "metadata": {},
   "source": [
    "### Question 1\n",
    "\n",
    "Which of the following is right:\n",
    "* A\n",
    "```python\n",
    "class Exception(MyError):\n",
    "    pass\n",
    "```\n",
    "* B\n",
    "```python\n",
    "class MyError(Exception):\n",
    "    pass\n",
    "```\n",
    "* C\n",
    "\n",
    "```python\n",
    "class 2MyError(Exeception):\n",
    "    pass\n",
    "```"
   ]
  },
  {
   "cell_type": "code",
   "execution_count": null,
   "metadata": {},
   "outputs": [],
   "source": []
  },
  {
   "cell_type": "markdown",
   "metadata": {},
   "source": [
    "### Question 2\n",
    "\n",
    "Name a situation where you would use a python exception. Name a poasible alternative to using a exception."
   ]
  },
  {
   "cell_type": "code",
   "execution_count": null,
   "metadata": {},
   "outputs": [],
   "source": []
  },
  {
   "cell_type": "markdown",
   "metadata": {},
   "source": [
    "### Question 3\n",
    "Associate group 1 with group 2:\n",
    "* A: AttributeError, KeyError, Exception\n",
    "* B: Key is missing, General Exception, Attribute is missing"
   ]
  }
 ],
 "metadata": {
  "kernelspec": {
   "display_name": "Python 3",
   "language": "python",
   "name": "python3"
  },
  "language_info": {
   "codemirror_mode": {
    "name": "ipython",
    "version": 3
   },
   "file_extension": ".py",
   "mimetype": "text/x-python",
   "name": "python",
   "nbconvert_exporter": "python",
   "pygments_lexer": "ipython3",
   "version": "3.6.6"
  }
 },
 "nbformat": 4,
 "nbformat_minor": 2
}
