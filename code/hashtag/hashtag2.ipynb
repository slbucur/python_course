{
 "cells": [
  {
   "cell_type": "code",
   "execution_count": 1,
   "metadata": {},
   "outputs": [
    {
     "name": "stdout",
     "output_type": "stream",
     "text": [
      "Tweets to be sent\n",
      "[{'hashtag': '#mango', 'message': 'I love exotic fruits'},\n",
      " {'hashtag': '#pear', 'message': 'Local foods are the best'},\n",
      " {'hashtag': '#celery', 'message': 'Why not vegetables'}]\n",
      "Starting to send tweets\n",
      "Sending update `I love exotic fruits #mango`\n",
      "Failed [{'code': 89, 'message': 'Invalid or expired token.'}]\n",
      "Sending update `Local foods are the best #pear`\n",
      "Failed [{'code': 89, 'message': 'Invalid or expired token.'}]\n",
      "Sending update `Why not vegetables #celery`\n",
      "Failed [{'code': 89, 'message': 'Invalid or expired token.'}]\n"
     ]
    }
   ],
   "source": [
    "from twitter import Api, TwitterError\n",
    "from openpyxl import load_workbook\n",
    "from pprint import pprint\n",
    "\n",
    "EXCEL_FILE = './hashtag.xlsx'\n",
    "EXCEL_SHEET = 'hashtag'\n",
    "\n",
    "api = Api(\n",
    "    consumer_key='uV8NLoJBkI46NPiHZJgvJY2PP',\n",
    "    consumer_secret='4gtGFn2QySlxnyFkdcnpjXy5a8rVRyBdaoJcXiJordEbx0UpXk',\n",
    "    access_token_key='994947930971885569-rZGjnP0IhF4UbPHHQjKlr2l2eI4m4iM',\n",
    "    access_token_secret='eAdMlpqzmZApHAVHa1WRziIQw0U5KP62AhfyOdasyUwiz'\n",
    ")\n",
    "\n",
    "def get_tweets():\n",
    "    wb = load_workbook(EXCEL_FILE)\n",
    "    sheet = wb[EXCEL_SHEET]\n",
    "\n",
    "    tweets = []\n",
    "    header = {}\n",
    "    for i, row in enumerate(sheet.rows):\n",
    "        if i == 0:\n",
    "            for j, cell in enumerate(row):\n",
    "                header[j] = cell.value\n",
    "        else:\n",
    "            tweet = {}\n",
    "            for j, cell in enumerate(row):\n",
    "                tweet[header[j]] = cell.value\n",
    "            tweets.append(tweet)\n",
    "\n",
    "    return tweets\n",
    "\n",
    "def send_tweets():\n",
    "    tweets = get_tweets()\n",
    "    print('Tweets to be sent')\n",
    "    pprint(tweets)\n",
    "    \n",
    "    print('Starting to send tweets')\n",
    "    for tweet in tweets:\n",
    "        update = '{} {}'.format(tweet['message'], tweet['hashtag'])\n",
    "        print(f'Sending update `{update}`')\n",
    "        try:\n",
    "            status = api.PostUpdate(update)\n",
    "            print('Update sent successfully')\n",
    "        except TwitterError as e:\n",
    "            print('Failed {}'.format(e))\n",
    "\n",
    "send_tweets()"
   ]
  },
  {
   "cell_type": "code",
   "execution_count": 12,
   "metadata": {},
   "outputs": [
    {
     "name": "stdout",
     "output_type": "stream",
     "text": [
      "<generator object Worksheet._cells_by_row at 0x000001FF194A6B48>\n",
      "(<Cell 'hashtag'.A1>, <Cell 'hashtag'.B1>)\n",
      "message;hashtag;(<Cell 'hashtag'.A2>, <Cell 'hashtag'.B2>)\n",
      "I love exotic fruits;#mango;(<Cell 'hashtag'.A3>, <Cell 'hashtag'.B3>)\n",
      "Local foods are the best;#pear;(<Cell 'hashtag'.A4>, <Cell 'hashtag'.B4>)\n",
      "Why not vegetables;#celery;"
     ]
    }
   ],
   "source": [
    "wb = load_workbook('./hashtag.xlsx')\n",
    "sheet = wb['hashtag']\n",
    "\n",
    "print(sheet.rows)\n",
    "for row in sheet.rows:\n",
    "    print(row)\n",
    "    for cell in row:\n",
    "        print(cell.value, end=';')"
   ]
  }
 ],
 "metadata": {
  "celltoolbar": "Visualize",
  "kernelspec": {
   "display_name": "Python 3",
   "language": "python",
   "name": "python3"
  },
  "language_info": {
   "codemirror_mode": {
    "name": "ipython",
    "version": 3
   },
   "file_extension": ".py",
   "mimetype": "text/x-python",
   "name": "python",
   "nbconvert_exporter": "python",
   "pygments_lexer": "ipython3",
   "version": "3.6.5"
  }
 },
 "nbformat": 4,
 "nbformat_minor": 2
}
