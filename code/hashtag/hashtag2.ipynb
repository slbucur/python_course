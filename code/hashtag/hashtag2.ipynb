{
 "cells": [
  {
   "cell_type": "code",
   "execution_count": 6,
   "metadata": {},
   "outputs": [
    {
     "name": "stdout",
     "output_type": "stream",
     "text": [
      "Tweets to be sent\n",
      "[{'hashtag': '#mango', 'message': 'I love exotic fruits'},\n",
      " {'hashtag': '#pear', 'message': 'Local foods are the best'},\n",
      " {'hashtag': '#celery', 'message': 'Why not vegetables'}]\n",
      "Starting to send tweets\n",
      "Sending update `I love exotic fruits #mango`\n",
      "Failed [{'code': 187, 'message': 'Status is a duplicate.'}]\n",
      "Sending update `Local foods are the best #pear`\n",
      "Failed [{'code': 187, 'message': 'Status is a duplicate.'}]\n",
      "Sending update `Why not vegetables #celery`\n",
      "Failed [{'code': 187, 'message': 'Status is a duplicate.'}]\n"
     ]
    }
   ],
   "source": [
    "from twitter import Api, TwitterError\n",
    "from openpyxl import load_workbook\n",
    "from pprint import pprint\n",
    "\n",
    "EXCEL_FILE = './hashtag.xlsx'\n",
    "EXCEL_SHEET = 'hashtag'\n",
    "\n",
    "api = Api(\n",
    "    consumer_key='uV8NLoJBkI46NPiHZJgvJY2Pp',\n",
    "    consumer_secret='4gtGFn2QySlxnyFkdcnpjXy5a8rVRyBdaoJcXiJordEbx0UpXK',\n",
    "    access_token_key='994947930971885569-rZGjnP0IhF4UbPHHQjKlr2l2eI4m4im',\n",
    "    access_token_secret='eAdMlpqzmZApHAVHa1WRziIQw0U5KP62AhfyOdasyUwiZ'\n",
    ")\n",
    "\n",
    "def get_tweets():\n",
    "    wb = load_workbook(EXCEL_FILE)\n",
    "    sheet = wb[EXCEL_SHEET]\n",
    "\n",
    "    tweets = []\n",
    "    header = {}\n",
    "    for i, row in enumerate(sheet.rows):\n",
    "        if i == 0:\n",
    "            for j, cell in enumerate(row):\n",
    "                header[j] = cell.value\n",
    "        else:\n",
    "            tweet = {}\n",
    "            for j, cell in enumerate(row):\n",
    "                tweet[header[j]] = cell.value\n",
    "            tweets.append(tweet)\n",
    "\n",
    "    return tweets\n",
    "\n",
    "def send_tweets():\n",
    "    tweets = get_tweets()\n",
    "    print('Tweets to be sent')\n",
    "    pprint(tweets)\n",
    "    \n",
    "    print('Starting to send tweets')\n",
    "    for tweet in tweets:\n",
    "        update = '{} {}'.format(tweet['message'], tweet['hashtag'])\n",
    "        print(f'Sending update `{update}`')\n",
    "        try:\n",
    "            status = api.PostUpdate(update)\n",
    "            print('Update sent successfully')\n",
    "        except TwitterError as e:\n",
    "            print('Failed {}'.format(e))\n",
    "\n",
    "send_tweets()"
   ]
  }
 ],
 "metadata": {
  "kernelspec": {
   "display_name": "Python 3",
   "language": "python",
   "name": "python3"
  },
  "language_info": {
   "codemirror_mode": {
    "name": "ipython",
    "version": 3
   },
   "file_extension": ".py",
   "mimetype": "text/x-python",
   "name": "python",
   "nbconvert_exporter": "python",
   "pygments_lexer": "ipython3",
   "version": "3.6.5"
  }
 },
 "nbformat": 4,
 "nbformat_minor": 2
}
