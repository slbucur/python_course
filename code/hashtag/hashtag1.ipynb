{
 "cells": [
  {
   "cell_type": "code",
   "execution_count": 2,
   "metadata": {},
   "outputs": [
    {
     "name": "stdout",
     "output_type": "stream",
     "text": [
      "Sending tweet:\n",
      "I love exotic fruits #mango\n",
      "Sending tweet:\n",
      "Local foods are the best #pear\n",
      "Sending tweet:\n",
      "Why not vegetables #celery\n"
     ]
    }
   ],
   "source": [
    "def send_tweets():\n",
    "    tweets = [\n",
    "        {'message': 'I love exotic fruits', 'hashtag': '#mango'},\n",
    "        {'message': 'Local foods are the best', 'hashtag': '#pear'},\n",
    "        {'message': 'Why not vegetables', 'hashtag': '#celery'}\n",
    "    ]\n",
    "\n",
    "    for tweet in tweets:\n",
    "        print('Sending tweet:')\n",
    "        print('{} {}'.format(tweet['message'], tweet['hashtag']))\n",
    "\n",
    "send_tweets()"
   ]
  }
 ],
 "metadata": {
  "kernelspec": {
   "display_name": "Python 3",
   "language": "python",
   "name": "python3"
  },
  "language_info": {
   "codemirror_mode": {
    "name": "ipython",
    "version": 3
   },
   "file_extension": ".py",
   "mimetype": "text/x-python",
   "name": "python",
   "nbconvert_exporter": "python",
   "pygments_lexer": "ipython3",
   "version": "3.6.5"
  }
 },
 "nbformat": 4,
 "nbformat_minor": 2
}
