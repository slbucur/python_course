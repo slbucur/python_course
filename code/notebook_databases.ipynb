{
 "cells": [
  {
   "cell_type": "markdown",
   "metadata": {},
   "source": [
    "## SQLite"
   ]
  },
  {
   "cell_type": "code",
   "execution_count": 1,
   "metadata": {},
   "outputs": [],
   "source": [
    "import sqlite3"
   ]
  },
  {
   "cell_type": "code",
   "execution_count": 2,
   "metadata": {},
   "outputs": [],
   "source": [
    "# establish a connection\n",
    "# first we establish a connection\n",
    "connection = sqlite3.connect('test.db')\n",
    "\n",
    "# then we need a cursor\n",
    "cursor = connection.cursor()"
   ]
  },
  {
   "cell_type": "markdown",
   "metadata": {},
   "source": [
    "### CREATE"
   ]
  },
  {
   "cell_type": "code",
   "execution_count": 3,
   "metadata": {},
   "outputs": [
    {
     "data": {
      "text/plain": [
       "<sqlite3.Cursor at 0x21ca36faa40>"
      ]
     },
     "execution_count": 3,
     "metadata": {},
     "output_type": "execute_result"
    }
   ],
   "source": [
    "# for CREATE/INSERT/UPDATE/DELETE\n",
    "# only execute is enough\n",
    "cursor.execute(\"\"\"\n",
    "    CREATE TABLE animal(\n",
    "        id INTEGER PRIMARY KEY AUTOINCREMENT,\n",
    "        name TEXT not null,\n",
    "        race TEXT not null,\n",
    "        quote TEXT\n",
    "    );\n",
    "\"\"\")"
   ]
  },
  {
   "cell_type": "markdown",
   "metadata": {},
   "source": [
    "## SELECT\n",
    "\n",
    "* First we need to do an execute.\n",
    "* Then one of the fetch functions"
   ]
  },
  {
   "cell_type": "code",
   "execution_count": 7,
   "metadata": {},
   "outputs": [
    {
     "data": {
      "text/plain": [
       "<sqlite3.Cursor at 0x21ca36faa40>"
      ]
     },
     "execution_count": 7,
     "metadata": {},
     "output_type": "execute_result"
    }
   ],
   "source": [
    "# for SELECT\n",
    "# first execute\n",
    "cursor.execute(\"SELECT * FROM sqlite_master\")"
   ]
  },
  {
   "cell_type": "code",
   "execution_count": 8,
   "metadata": {},
   "outputs": [
    {
     "data": {
      "text/plain": [
       "[('table',\n",
       "  'animal',\n",
       "  'animal',\n",
       "  2,\n",
       "  'CREATE TABLE animal(\\n        id INTEGER PRIMARY KEY AUTOINCREMENT,\\n        name TEXT not null,\\n        race TEXT not null,\\n        quote TEXT\\n    )'),\n",
       " ('table',\n",
       "  'sqlite_sequence',\n",
       "  'sqlite_sequence',\n",
       "  3,\n",
       "  'CREATE TABLE sqlite_sequence(name,seq)')]"
      ]
     },
     "execution_count": 8,
     "metadata": {},
     "output_type": "execute_result"
    }
   ],
   "source": [
    "# then fetch\n",
    "cursor.fetchall()"
   ]
  },
  {
   "cell_type": "code",
   "execution_count": 10,
   "metadata": {},
   "outputs": [
    {
     "data": {
      "text/plain": [
       "('table',\n",
       " 'animal',\n",
       " 'animal',\n",
       " 2,\n",
       " 'CREATE TABLE animal(\\n        id INTEGER PRIMARY KEY AUTOINCREMENT,\\n        name TEXT not null,\\n        race TEXT not null,\\n        quote TEXT\\n    )')"
      ]
     },
     "execution_count": 10,
     "metadata": {},
     "output_type": "execute_result"
    }
   ],
   "source": [
    "# fetchone to take only one value\n",
    "cursor.execute(\"SELECT * FROM sqlite_master\")\n",
    "cursor.fetchone()"
   ]
  },
  {
   "cell_type": "code",
   "execution_count": 11,
   "metadata": {},
   "outputs": [
    {
     "data": {
      "text/plain": [
       "<sqlite3.Cursor at 0x21ca36faa40>"
      ]
     },
     "execution_count": 11,
     "metadata": {},
     "output_type": "execute_result"
    }
   ],
   "source": [
    "cursor.execute(\"SELECT * FROM sqlite_master\")"
   ]
  },
  {
   "cell_type": "code",
   "execution_count": 13,
   "metadata": {},
   "outputs": [
    {
     "data": {
      "text/plain": [
       "(('type', None, None, None, None, None, None),\n",
       " ('name', None, None, None, None, None, None),\n",
       " ('tbl_name', None, None, None, None, None, None),\n",
       " ('rootpage', None, None, None, None, None, None),\n",
       " ('sql', None, None, None, None, None, None))"
      ]
     },
     "execution_count": 13,
     "metadata": {},
     "output_type": "execute_result"
    }
   ],
   "source": [
    "cursor.description"
   ]
  },
  {
   "cell_type": "markdown",
   "metadata": {},
   "source": [
    "### INSERT\n",
    "\n",
    "* To insert we'll use sql parameters.\n",
    "* This is to avoid weird behaviours where insert values are actually SQL commands.\n",
    "* Also, in a web scenario, parameters avoid SQL injection.\n"
   ]
  },
  {
   "cell_type": "code",
   "execution_count": 16,
   "metadata": {},
   "outputs": [
    {
     "data": {
      "text/plain": [
       "<sqlite3.Cursor at 0x21ca36faa40>"
      ]
     },
     "execution_count": 16,
     "metadata": {},
     "output_type": "execute_result"
    }
   ],
   "source": [
    "cursor.executemany(\"INSERT INTO animal(name, race, quote) VALUES(?, ?, ?)\", [\n",
    "    ('panda', 'mammal', 'pandas like lavandas'),\n",
    "    ('iguana', 'lizard', 'iguana likes your momma')\n",
    "])"
   ]
  },
  {
   "cell_type": "code",
   "execution_count": 17,
   "metadata": {},
   "outputs": [
    {
     "data": {
      "text/plain": [
       "[(1, 'panda', 'mammal', 'pandas like lavandas'),\n",
       " (2, 'iguana', 'lizard', 'iguana likes your momma')]"
      ]
     },
     "execution_count": 17,
     "metadata": {},
     "output_type": "execute_result"
    }
   ],
   "source": [
    "cursor.execute(\"SELECT * FROM animal\")\n",
    "cursor.fetchall()"
   ]
  }
 ],
 "metadata": {
  "kernelspec": {
   "display_name": "Python 3",
   "language": "python",
   "name": "python3"
  },
  "language_info": {
   "codemirror_mode": {
    "name": "ipython",
    "version": 3
   },
   "file_extension": ".py",
   "mimetype": "text/x-python",
   "name": "python",
   "nbconvert_exporter": "python",
   "pygments_lexer": "ipython3",
   "version": "3.6.5"
  }
 },
 "nbformat": 4,
 "nbformat_minor": 2
}
