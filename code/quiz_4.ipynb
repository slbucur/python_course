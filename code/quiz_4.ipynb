{
 "cells": [
  {
   "cell_type": "markdown",
   "metadata": {},
   "source": [
    "## Question 1\n",
    "\n",
    "Which of the following is correct:\n",
    "\n",
    "#### Option A\n",
    "```python\n",
    "def greeting:\n",
    "    return 'Hello world'\n",
    "```\n",
    "\n",
    "#### Option B\n",
    "```python\n",
    "def greeting()\n",
    "    return 'Hello world'\n",
    "```\n",
    "\n",
    "#### Option C\n",
    "```python\n",
    "def greeting():\n",
    "    return 'Hello world'\n",
    "```\n",
    "\n",
    "#### Option D\n",
    "```python\n",
    "def greeting[]:\n",
    "    return 'Hello world'\n",
    "```"
   ]
  },
  {
   "cell_type": "code",
   "execution_count": null,
   "metadata": {},
   "outputs": [],
   "source": []
  },
  {
   "cell_type": "markdown",
   "metadata": {},
   "source": [
    "## Question 2\n",
    "\n",
    "Which of the following is correct:\n",
    "\n",
    "#### Option A\n",
    "```python\n",
    "def add_numbers(a, b):\n",
    "    return a plus b\n",
    "```\n",
    "\n",
    "#### Option B\n",
    "```python\n",
    "def add_numbers(a, b):\n",
    "    return a.plus(b)\n",
    "```\n",
    "\n",
    "#### Option C\n",
    "```python\n",
    "def add_numbers(a, b):\n",
    "    return a + b\n",
    "```\n",
    "\n",
    "#### Option D\n",
    "```python\n",
    "def add_numbers(a, b){\n",
    "    return a + b\n",
    "}\n",
    "```"
   ]
  },
  {
   "cell_type": "code",
   "execution_count": null,
   "metadata": {},
   "outputs": [],
   "source": []
  },
  {
   "cell_type": "markdown",
   "metadata": {},
   "source": [
    "## Question 3\n",
    "\n",
    "We have have function `can_i_buy`\n",
    "that returns `True` if the item can be bought and `False` otherwise.\n",
    "\n",
    "Which of the following is correct:\n",
    "\n",
    "#### Option A\n",
    "```python\n",
    "def can_i_buy(price, money_i_have):\n",
    "    if price > money_i_have:\n",
    "        return False\n",
    "        return True\n",
    "```\n",
    "\n",
    "#### Option B\n",
    "```python\n",
    "def can_i_buy(price, money_i_have):\n",
    "    if price > money_i_have:\n",
    "        return False\n",
    "    else:\n",
    "        return True\n",
    "```\n",
    "\n",
    "#### Option C\n",
    "```python\n",
    "def can_i_buy(price, money_i_have):\n",
    "    if price > money_i_have:\n",
    "        pass\n",
    "    return True\n",
    "```\n",
    "\n",
    "#### Option D\n",
    "```python\n",
    "def can_i_buy(price, money_i_have):\n",
    "    if price > money_i_have\n",
    "        return False\n",
    "    return True\n",
    "```"
   ]
  },
  {
   "cell_type": "code",
   "execution_count": null,
   "metadata": {},
   "outputs": [],
   "source": []
  },
  {
   "cell_type": "markdown",
   "metadata": {},
   "source": [
    "## Excercise 1\n",
    "\n",
    "Define a function that adds two strings, with a space between them\n",
    "Usage example:\n",
    "```python\n",
    "add_strings('Hello', 'World') => 'Hello World'\n",
    "```"
   ]
  },
  {
   "cell_type": "code",
   "execution_count": null,
   "metadata": {},
   "outputs": [],
   "source": []
  },
  {
   "cell_type": "markdown",
   "metadata": {},
   "source": [
    "## Excercise 2\n",
    "\n",
    "Given the following function, add the missing code to return the biggest number from two lists.\n",
    "\n",
    "Usage example:\n",
    "```python\n",
    "def biggest_number():\n",
    "    list_1 = [5, 7, 3, 10]\n",
    "    list_2 = [8, 19, 2]\n",
    "    # add missing code here\n",
    "    # ...\n",
    "    return max_number\n",
    "```"
   ]
  },
  {
   "cell_type": "code",
   "execution_count": null,
   "metadata": {},
   "outputs": [],
   "source": []
  }
 ],
 "metadata": {
  "kernelspec": {
   "display_name": "Python 3",
   "language": "python",
   "name": "python3"
  },
  "language_info": {
   "codemirror_mode": {
    "name": "ipython",
    "version": 3
   },
   "file_extension": ".py",
   "mimetype": "text/x-python",
   "name": "python",
   "nbconvert_exporter": "python",
   "pygments_lexer": "ipython3",
   "version": "3.6.5"
  }
 },
 "nbformat": 4,
 "nbformat_minor": 2
}
