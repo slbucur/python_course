{
 "cells": [
  {
   "cell_type": "markdown",
   "metadata": {},
   "source": [
    "## Name the types of the following variables"
   ]
  },
  {
   "cell_type": "code",
   "execution_count": null,
   "metadata": {},
   "outputs": [],
   "source": [
    "1\n",
    "\n",
    "'Hello world'\n",
    "\n",
    "\"\"\"\n",
    "Hello\n",
    "world\n",
    "\"\"\"\n",
    "\n",
    "('Banana')\n",
    "\n",
    "(1, 2, 3)\n",
    "\n",
    "[1, 3, 5]\n",
    "\n",
    "{\n",
    "    'Joey': 'boy',\n",
    "    'Bill': 'man'\n",
    "}"
   ]
  },
  {
   "cell_type": "markdown",
   "metadata": {},
   "source": [
    "## Get to the princess"
   ]
  },
  {
   "cell_type": "code",
   "execution_count": 5,
   "metadata": {},
   "outputs": [
    {
     "data": {
      "text/plain": [
       "'princess 👸'"
      ]
     },
     "execution_count": 5,
     "metadata": {},
     "output_type": "execute_result"
    }
   ],
   "source": [
    "tutorial = ['princess 👸']\n",
    "tutorial[0]"
   ]
  },
  {
   "cell_type": "code",
   "execution_count": 4,
   "metadata": {},
   "outputs": [],
   "source": [
    "real_game = {\n",
    "    'the_first_castle': {\n",
    "        'the_second_castle': [\n",
    "            'not_there', 'not_here', {\n",
    "                'the_third_castle': [\n",
    "                    'dragon', 'white_castle', 'princess 👸'\n",
    "                ]\n",
    "            }\n",
    "        ]\n",
    "    }\n",
    "}"
   ]
  }
 ],
 "metadata": {
  "kernelspec": {
   "display_name": "Python 3",
   "language": "python",
   "name": "python3"
  },
  "language_info": {
   "codemirror_mode": {
    "name": "ipython",
    "version": 3
   },
   "file_extension": ".py",
   "mimetype": "text/x-python",
   "name": "python",
   "nbconvert_exporter": "python",
   "pygments_lexer": "ipython3",
   "version": "3.6.5"
  }
 },
 "nbformat": 4,
 "nbformat_minor": 2
}
