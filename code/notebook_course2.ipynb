{
 "cells": [
  {
   "cell_type": "markdown",
   "metadata": {},
   "source": [
    "### Using external libraries\n",
    "\n",
    "---\n",
    "\n",
    "* Local python installation\n",
    "* Maybe some git\n",
    "* Python style guide\n",
    "* Object oriented programming (basics)\n",
    "* Using external libraries\n",
    "* Bonus - git\n",
    "\n",
    "---\n",
    "\n",
    "How did `Homework 1` go?\n",
    "Let's take it [step by step](#/65).\n",
    "\n",
    "---\n",
    "\n",
    "#### What is Python (the executable).\n",
    "\n",
    "* It's the standard python interpreter.\n",
    "\n",
    "* When you install it, it appends your `%PATH%` variable, so you will have\n",
    "it available everywhere in the shell.\n",
    "\n",
    "---\n",
    "\n",
    "This executable:\n",
    "* interprets and executes python instructions from python files\n",
    "* conceptually it's a virtual machine, because it abstracts the\n",
    "underlying hardware and software to some basic programming concepts\n",
    "* python has it's own internal operations called Operation Codes\n",
    "(OPCodes)\n",
    "\n",
    "---\n",
    "\n",
    "### Virtual environments\n",
    "\n",
    "* An isolated python instance where you\n",
    " can install dependencies without affecting the global python\n",
    " installation\n",
    "* This way you can have separate dependencies (external libraries)\n",
    "for every project\n",
    "\n",
    "---\n",
    "\n",
    "### Pipenv\n",
    "\n",
    "* Pipenv is a library that makes it very easy to work with virtual\n",
    "environments\n",
    "\n",
    "* create a new directory an change the directory into it\n",
    "```bash\n",
    "mkdir project_name\n",
    "cd project_name\n",
    "```\n",
    "\n",
    "* initialize pipenv\n",
    "```bash\n",
    "pipenv install\n",
    "```\n",
    "\n",
    "---\n",
    "\n",
    "\n",
    "* Right now we are still using the global python installation\n",
    "```\n",
    "which python\n",
    "```\n",
    "\n",
    "* Change to the virtual environment\n",
    "```\n",
    "pipenv shell\n",
    "```\n",
    "\n",
    "* The python installation has changed\n",
    "```\n",
    "which python\n",
    "```\n",
    "\n",
    "---\n",
    "\n",
    "* If you look around, you'll see two files:\n",
    "  * [Pipfile](https://github.com/slbucur/python_course/blob/master/Pipfile)\n",
    "  * [Pipfile.lock](https://github.com/slbucur/python_course/blob/master/Pipfile.lock)\n",
    "* Let's look at them for a little\n",
    "\n",
    "Note:\n",
    "The Pipfile is straightforward, with just two dependencies: \n",
    "* jupyterlab\n",
    "* requests\n",
    "\n",
    "If we look in the Pipfile.lock, thogh, we can see all \n",
    "the complexity hidden from us.\n",
    "\n",
    "Jupyterlab depends on many other libraries, \n",
    "and they are all here.\n",
    "\n",
    "---\n",
    "\n",
    "### Dependencies\n",
    "\n",
    "* External libraries that you can use in your own code\n",
    "* It's usually code written by other people that was open source\n",
    "* You already know one example:\n",
    "  * Jupyter\n",
    "\n",
    "---\n",
    "\n",
    "### [pypi.org](pypi.org)\n",
    "\n",
    "* Platform containing thousands of python projects\n",
    "* All projects are vetoed by the community\n",
    "* All packages here can be installed with **pip**\n",
    "\n",
    "---\n",
    "\n",
    "### Using dependencies\n",
    "\n",
    "* Let's install a library for doing http requests\n",
    "* It's called requests\n",
    "\n",
    "```bash\n",
    "pipenv install requests\n",
    "```\n",
    "\n",
    "---\n",
    "\n",
    "* Now let's open a notebook\n",
    "\n",
    "```python\n",
    "import requests\n",
    "response = requests.get('https://google.com')\n",
    "print(response.text)\n",
    "```\n",
    "* What do you see?"
   ]
  },
  {
   "cell_type": "markdown",
   "metadata": {},
   "source": [
    "## Object oriented programming\n",
    "\n",
    "* Recall the last course, about objects and properties\n",
    "* objects:\n",
    "  * hold data\n",
    "  * have properties\n",
    "\n",
    "* OOP allows us to have hierarchies of objects (Think parent-child).\n",
    "\n",
    "* Let's create our own object"
   ]
  },
  {
   "cell_type": "code",
   "execution_count": 1,
   "metadata": {},
   "outputs": [
    {
     "name": "stdout",
     "output_type": "stream",
     "text": [
      "😎\n"
     ]
    }
   ],
   "source": [
    "class MyAwesomeObject():\n",
    "    def be_awesome(self):\n",
    "        print('😎')\n",
    "\n",
    "my_awesome_object = MyAwesomeObject()\n",
    "my_awesome_object.be_awesome()"
   ]
  },
  {
   "cell_type": "code",
   "execution_count": 2,
   "metadata": {},
   "outputs": [
    {
     "name": "stdout",
     "output_type": "stream",
     "text": [
      "😎\n",
      "😎\n",
      "😎\n",
      "😎\n",
      "😎\n",
      "I've been awesome too many times\n",
      "I've been awesome too many times\n"
     ]
    }
   ],
   "source": [
    "# a bit of complication\n",
    "class MyAwesomeObject():\n",
    "    been_awesome = 0\n",
    "    def be_awesome(self):\n",
    "        if self.been_awesome >= 5:\n",
    "            print(\"I've been awesome too many times\")\n",
    "        else:\n",
    "            print('😎')\n",
    "            self.been_awesome += 1\n",
    "\n",
    "my_object = MyAwesomeObject()\n",
    "for i in range(7):\n",
    "    my_object.be_awesome()"
   ]
  },
  {
   "cell_type": "markdown",
   "metadata": {},
   "source": [
    "### Inheritance\n",
    "A small biological hierarchy.\n",
    "Both cats and dogs are animals and make sounds.\n",
    "The way they make sounds is the same (by printing to the console).\n",
    "Their sounds are different though:\n",
    "  * Bark for the dog\n",
    "  * Meow for the cat"
   ]
  },
  {
   "cell_type": "code",
   "execution_count": 9,
   "metadata": {},
   "outputs": [
    {
     "name": "stdout",
     "output_type": "stream",
     "text": [
      "Meow !\n",
      "Bark !\n"
     ]
    }
   ],
   "source": [
    "class Animal():\n",
    "    def __init__(self, sound):\n",
    "        self.sound = sound\n",
    "\n",
    "    def make_sound(self):\n",
    "        print(self.sound)\n",
    "\n",
    "class Cat(Animal):\n",
    "    def __init__(self):\n",
    "        super().__init__('Meow !')\n",
    "\n",
    "class Dog(Animal):\n",
    "    def __init__(self):\n",
    "        super().__init__('Bark !')\n",
    "\n",
    "cat = Cat()\n",
    "dog = Dog()\n",
    "\n",
    "cat.make_sound()\n",
    "dog.make_sound()"
   ]
  },
  {
   "cell_type": "markdown",
   "metadata": {},
   "source": [
    "### __init__\n",
    "Here we have a very small example of an integer.\n",
    "It can only increment.\n",
    "\n",
    "When we initialize it with MiniInteger(), the state\n",
    "initializes with 0.\n",
    "\n",
    "Then we can increase that state with 1 using \n",
    "the MiniInteger.increment() function"
   ]
  },
  {
   "cell_type": "code",
   "execution_count": 13,
   "metadata": {},
   "outputs": [
    {
     "name": "stdout",
     "output_type": "stream",
     "text": [
      "1\n",
      "2\n",
      "3\n",
      "4\n"
     ]
    }
   ],
   "source": [
    "class MiniInteger():\n",
    "    def __init__(self):\n",
    "        self.state = 0\n",
    "    def increment(self):\n",
    "        self.state += 1\n",
    "        print(self.state)\n",
    "\n",
    "mini_int = MiniInteger()\n",
    "for i in range(4):\n",
    "    mini_int.increment()"
   ]
  },
  {
   "cell_type": "markdown",
   "metadata": {},
   "source": [
    "### OOP - Conclusions\n",
    "\n",
    "* OOP is used extensively throughout python\n",
    "* It's not usually necessary to create your \n",
    "own hierarchies\n",
    "* But it's important to know for using other libraries"
   ]
  },
  {
   "cell_type": "markdown",
   "metadata": {},
   "source": [
    "### Exceptions\n",
    "\n",
    "* Exceptions are a classic example of OOP in python\n",
    "* When an exception is raised in the program the program stops\n",
    "* Unless the exception is caught in the code\n",
    "\n",
    "\n",
    "---\n",
    "\n",
    "### KeyboardInterrupt\n",
    "\n",
    "* Try this in an notebook. It will sleep forever.\n",
    "* To stop it, use the ⏹️ button\n",
    "* This will send a Ctrl+C to the program, and raise a KeyboardInterrupt exception"
   ]
  },
  {
   "cell_type": "code",
   "execution_count": 14,
   "metadata": {},
   "outputs": [
    {
     "ename": "KeyboardInterrupt",
     "evalue": "",
     "output_type": "error",
     "traceback": [
      "\u001b[1;31m---------------------------------------------------------------------------\u001b[0m",
      "\u001b[1;31mKeyboardInterrupt\u001b[0m                         Traceback (most recent call last)",
      "\u001b[1;32m<ipython-input-14-ecf9bc35922a>\u001b[0m in \u001b[0;36m<module>\u001b[1;34m()\u001b[0m\n\u001b[0;32m      1\u001b[0m \u001b[1;32mfrom\u001b[0m \u001b[0mtime\u001b[0m \u001b[1;32mimport\u001b[0m \u001b[0msleep\u001b[0m\u001b[1;33m\u001b[0m\u001b[0m\n\u001b[0;32m      2\u001b[0m \u001b[1;32mwhile\u001b[0m \u001b[1;32mTrue\u001b[0m\u001b[1;33m:\u001b[0m\u001b[1;33m\u001b[0m\u001b[0m\n\u001b[1;32m----> 3\u001b[1;33m     \u001b[0msleep\u001b[0m\u001b[1;33m(\u001b[0m\u001b[1;36m1\u001b[0m\u001b[1;33m)\u001b[0m\u001b[1;33m\u001b[0m\u001b[0m\n\u001b[0m",
      "\u001b[1;31mKeyboardInterrupt\u001b[0m: "
     ]
    }
   ],
   "source": [
    "from time import sleep\n",
    "while True:\n",
    "    sleep(1)"
   ]
  },
  {
   "cell_type": "markdown",
   "metadata": {},
   "source": [
    "### The stacktrace\n",
    "\n",
    "\n",
    "```python\n",
    "---------------------------------------------\n",
    "KeyboardInterrupt\n",
    "Traceback (most recent call last)\n",
    "<ipython-input-1-ecf9bc35922a> in <module>()\n",
    "      1 from time import sleep\n",
    "      2 while True:\n",
    "----> 3     sleep(1)\n",
    "\n",
    "KeyboardInterrupt: \n",
    "```\n",
    "\n",
    "* Under normal python behavior, if an exception is not caught\n",
    "a stack trace will be displayed on the screen\n",
    "* This shows where the exception was encountered\n",
    "\n",
    "---\n",
    "\n",
    "### Another exception"
   ]
  },
  {
   "cell_type": "markdown",
   "metadata": {},
   "source": [
    "### The stacktrace\n",
    "\n",
    "\n",
    "```python\n",
    "---------------------------------------------\n",
    "KeyboardInterrupt\n",
    "Traceback (most recent call last)\n",
    "<ipython-input-1-ecf9bc35922a> in <module>()\n",
    "      1 from time import sleep\n",
    "      2 while True:\n",
    "----> 3     sleep(1)\n",
    "\n",
    "KeyboardInterrupt: \n",
    "```\n",
    "\n",
    "* Under normal python behavior, if an exception is not caught\n",
    "a stack trace will be displayed on the screen\n",
    "* This shows where the exception was encountered\n",
    "\n",
    "---\n",
    "\n",
    "### Another exception"
   ]
  },
  {
   "cell_type": "code",
   "execution_count": 15,
   "metadata": {},
   "outputs": [
    {
     "ename": "ZeroDivisionError",
     "evalue": "division by zero",
     "output_type": "error",
     "traceback": [
      "\u001b[1;31m---------------------------------------------------------------------------\u001b[0m",
      "\u001b[1;31mZeroDivisionError\u001b[0m                         Traceback (most recent call last)",
      "\u001b[1;32m<ipython-input-15-c3474894e2b9>\u001b[0m in \u001b[0;36m<module>\u001b[1;34m()\u001b[0m\n\u001b[0;32m      3\u001b[0m \u001b[1;33m\u001b[0m\u001b[0m\n\u001b[0;32m      4\u001b[0m \u001b[1;32mfor\u001b[0m \u001b[0mdivisor\u001b[0m \u001b[1;32min\u001b[0m \u001b[0mdivisors\u001b[0m\u001b[1;33m:\u001b[0m\u001b[1;33m\u001b[0m\u001b[0m\n\u001b[1;32m----> 5\u001b[1;33m     \u001b[0mprint\u001b[0m\u001b[1;33m(\u001b[0m\u001b[1;34mf'{nr} / {divisor} = {nr / divisor}'\u001b[0m\u001b[1;33m)\u001b[0m\u001b[1;33m\u001b[0m\u001b[0m\n\u001b[0m",
      "\u001b[1;31mZeroDivisionError\u001b[0m: division by zero"
     ]
    }
   ],
   "source": [
    "nr = 12\n",
    "divisors = [0, 1, 2, 3, 4, 6, 12]\n",
    "\n",
    "for divisor in divisors:\n",
    "    print(f'{nr} / {divisor} = {nr / divisor}')"
   ]
  },
  {
   "cell_type": "code",
   "execution_count": 16,
   "metadata": {},
   "outputs": [
    {
     "ename": "ZeroDivisionError",
     "evalue": "division by zero",
     "output_type": "error",
     "traceback": [
      "\u001b[1;31m---------------------------------------------------------------------------\u001b[0m",
      "\u001b[1;31mZeroDivisionError\u001b[0m                         Traceback (most recent call last)",
      "\u001b[1;32m<ipython-input-16-c3474894e2b9>\u001b[0m in \u001b[0;36m<module>\u001b[1;34m()\u001b[0m\n\u001b[0;32m      3\u001b[0m \u001b[1;33m\u001b[0m\u001b[0m\n\u001b[0;32m      4\u001b[0m \u001b[1;32mfor\u001b[0m \u001b[0mdivisor\u001b[0m \u001b[1;32min\u001b[0m \u001b[0mdivisors\u001b[0m\u001b[1;33m:\u001b[0m\u001b[1;33m\u001b[0m\u001b[0m\n\u001b[1;32m----> 5\u001b[1;33m     \u001b[0mprint\u001b[0m\u001b[1;33m(\u001b[0m\u001b[1;34mf'{nr} / {divisor} = {nr / divisor}'\u001b[0m\u001b[1;33m)\u001b[0m\u001b[1;33m\u001b[0m\u001b[0m\n\u001b[0m",
      "\u001b[1;31mZeroDivisionError\u001b[0m: division by zero"
     ]
    }
   ],
   "source": [
    "nr = 12\n",
    "divisors = [0, 1, 2, 3, 4, 6, 12]\n",
    "\n",
    "for divisor in divisors:\n",
    "    print(f'{nr} / {divisor} = {nr / divisor}')"
   ]
  },
  {
   "cell_type": "markdown",
   "metadata": {},
   "source": [
    "* Let's try to catch that\n",
    "This works similar to an **if** block.\n",
    "\n",
    "Also notice the quote (`'`) escaping with `\\`.\n",
    "\n",
    "Since the string is made with single quotes, we need to \n",
    "escape the quotes inside the string.\n",
    "\n",
    "An alternative would have been `f\"Can't divide {nr} by 0\"`"
   ]
  },
  {
   "cell_type": "code",
   "execution_count": 17,
   "metadata": {},
   "outputs": [
    {
     "name": "stdout",
     "output_type": "stream",
     "text": [
      "Can't divide 12 by 0\n",
      "12 / 1 = 12.0\n",
      "12 / 2 = 6.0\n",
      "12 / 3 = 4.0\n",
      "12 / 4 = 3.0\n",
      "12 / 6 = 2.0\n",
      "12 / 12 = 1.0\n"
     ]
    }
   ],
   "source": [
    "nr = 12\n",
    "divisors = [0, 1, 2, 3, 4, 6, 12]\n",
    "\n",
    "for divisor in divisors:\n",
    "    try:\n",
    "        print(f'{nr} / {divisor} = {nr / divisor}')\n",
    "    except ZeroDivisionError:\n",
    "        print(f'Can\\'t divide {nr} by 0')"
   ]
  },
  {
   "cell_type": "markdown",
   "metadata": {},
   "source": [
    "### Try-except\n",
    "\n",
    "* Try-except works similar to an **if** block\n",
    "* You need to pass the type of exception you are catching in **except**\n"
   ]
  },
  {
   "cell_type": "code",
   "execution_count": 18,
   "metadata": {},
   "outputs": [
    {
     "name": "stdout",
     "output_type": "stream",
     "text": [
      "To infinity and beyond!\n"
     ]
    }
   ],
   "source": [
    "try:\n",
    "    1 / 0\n",
    "except ZeroDivisionError:\n",
    "    print('To infinity and beyond!')"
   ]
  },
  {
   "cell_type": "markdown",
   "metadata": {},
   "source": [
    "### OOP in exceptions\n",
    "\n",
    "* All exceptions inherit from the **Exception** class\n",
    "* So this also works:"
   ]
  },
  {
   "cell_type": "code",
   "execution_count": 20,
   "metadata": {},
   "outputs": [
    {
     "name": "stdout",
     "output_type": "stream",
     "text": [
      "<class 'ZeroDivisionError'>\n",
      "division by zero\n",
      "To infinity and beyond\n"
     ]
    }
   ],
   "source": [
    "try:\n",
    "    1 / 0\n",
    "except Exception as e:\n",
    "    print(type(e))\n",
    "    print(e)\n",
    "    print('To infinity and beyond')"
   ]
  },
  {
   "cell_type": "markdown",
   "metadata": {},
   "source": [
    "## The Exception class\n",
    "\n",
    "* if you want to catch any possible exception,\n",
    "use `except Exception`\n",
    "* it's recommended you don't do that, and manually\n",
    "set all exceptions you want to handle\n",
    "* otherwise it can be **very** hard to debug the code\n",
    "\n",
    "---\n",
    "\n",
    "### Our own exception"
   ]
  },
  {
   "cell_type": "code",
   "execution_count": 21,
   "metadata": {},
   "outputs": [
    {
     "name": "stdout",
     "output_type": "stream",
     "text": [
      "Making apple juice\n"
     ]
    },
    {
     "ename": "NotAnAppleError",
     "evalue": "",
     "output_type": "error",
     "traceback": [
      "\u001b[1;31m---------------------------------------------------------------------------\u001b[0m",
      "\u001b[1;31mNotAnAppleError\u001b[0m                           Traceback (most recent call last)",
      "\u001b[1;32m<ipython-input-21-fe460ab62d80>\u001b[0m in \u001b[0;36m<module>\u001b[1;34m()\u001b[0m\n\u001b[0;32m     10\u001b[0m \u001b[1;33m\u001b[0m\u001b[0m\n\u001b[0;32m     11\u001b[0m \u001b[1;32mfor\u001b[0m \u001b[0mfruit\u001b[0m \u001b[1;32min\u001b[0m \u001b[0mfruits\u001b[0m\u001b[1;33m:\u001b[0m\u001b[1;33m\u001b[0m\u001b[0m\n\u001b[1;32m---> 12\u001b[1;33m     \u001b[0mprocess_apple\u001b[0m\u001b[1;33m(\u001b[0m\u001b[0mfruit\u001b[0m\u001b[1;33m)\u001b[0m\u001b[1;33m\u001b[0m\u001b[0m\n\u001b[0m",
      "\u001b[1;32m<ipython-input-21-fe460ab62d80>\u001b[0m in \u001b[0;36mprocess_apple\u001b[1;34m(fruit)\u001b[0m\n\u001b[0;32m      4\u001b[0m \u001b[1;32mdef\u001b[0m \u001b[0mprocess_apple\u001b[0m\u001b[1;33m(\u001b[0m\u001b[0mfruit\u001b[0m\u001b[1;33m)\u001b[0m\u001b[1;33m:\u001b[0m\u001b[1;33m\u001b[0m\u001b[0m\n\u001b[0;32m      5\u001b[0m     \u001b[1;32mif\u001b[0m \u001b[0mfruit\u001b[0m \u001b[1;33m!=\u001b[0m \u001b[1;34m'🍏'\u001b[0m\u001b[1;33m:\u001b[0m\u001b[1;33m\u001b[0m\u001b[0m\n\u001b[1;32m----> 6\u001b[1;33m         \u001b[1;32mraise\u001b[0m \u001b[0mNotAnAppleError\u001b[0m\u001b[1;33m(\u001b[0m\u001b[1;33m)\u001b[0m\u001b[1;33m\u001b[0m\u001b[0m\n\u001b[0m\u001b[0;32m      7\u001b[0m \u001b[1;33m\u001b[0m\u001b[0m\n\u001b[0;32m      8\u001b[0m     \u001b[0mprint\u001b[0m\u001b[1;33m(\u001b[0m\u001b[1;34m'Making apple juice'\u001b[0m\u001b[1;33m)\u001b[0m\u001b[1;33m\u001b[0m\u001b[0m\n",
      "\u001b[1;31mNotAnAppleError\u001b[0m: "
     ]
    }
   ],
   "source": [
    "class NotAnAppleError(Exception):\n",
    "    pass\n",
    "\n",
    "def process_apple(fruit):\n",
    "    if fruit != '🍏':\n",
    "        raise NotAnAppleError()\n",
    "\n",
    "    print('Making apple juice')\n",
    "fruits = ['🍏', '🍌', '🍓']\n",
    "\n",
    "for fruit in fruits:\n",
    "    process_apple(fruit)"
   ]
  },
  {
   "cell_type": "markdown",
   "metadata": {},
   "source": [
    "### The `pass` keyword\n",
    "\n",
    "* The `pass` keyword is used to not do anything.\n",
    "* It can be used a placeholder until actual code will\n",
    "be written\n",
    "\n",
    "```python\n",
    "apple = '🍏'\n",
    "fruit = '🍓'\n",
    "\n",
    "if fruit == apple:\n",
    "    pass\n",
    "else:\n",
    "    print(f'{fruit} is not an {apple}')\n",
    "```"
   ]
  },
  {
   "cell_type": "markdown",
   "metadata": {},
   "source": [
    "## The python module system"
   ]
  },
  {
   "cell_type": "markdown",
   "metadata": {},
   "source": [
    "Two types of modules:\n",
    "* user modules\n",
    "* system modules\n",
    "    * python default modules\n",
    "    * external libraries\n",
    "    \n",
    "* Default way of importing"
   ]
  },
  {
   "cell_type": "code",
   "execution_count": 23,
   "metadata": {},
   "outputs": [
    {
     "name": "stdout",
     "output_type": "stream",
     "text": [
      "Sleeping 10 seconds\n"
     ]
    }
   ],
   "source": [
    "import time # a default python module\n",
    "\n",
    "print('Sleeping 10 seconds')\n",
    "time.sleep(10)"
   ]
  },
  {
   "cell_type": "markdown",
   "metadata": {},
   "source": [
    "* anther way of importing\n",
    "* imports only the needed function"
   ]
  },
  {
   "cell_type": "code",
   "execution_count": 24,
   "metadata": {},
   "outputs": [
    {
     "name": "stdout",
     "output_type": "stream",
     "text": [
      "Sleeping 10 seconds\n"
     ]
    }
   ],
   "source": [
    "from time import sleep\n",
    "print('Sleeping 10 seconds')\n",
    "sleep(10) "
   ]
  },
  {
   "cell_type": "markdown",
   "metadata": {},
   "source": [
    "* import everything from a module\n",
    "* usually not recommended"
   ]
  },
  {
   "cell_type": "code",
   "execution_count": 26,
   "metadata": {},
   "outputs": [],
   "source": [
    "from time import *\n",
    "sleep(10)"
   ]
  },
  {
   "cell_type": "markdown",
   "metadata": {},
   "source": [
    "### Your own modules\n",
    "\n",
    "\n",
    "* Go to the `code/module_parent` folder\n",
    "* Open the notebook\n",
    "* What do you see\n",
    "\n",
    "---\n",
    "\n",
    "* The python module system is based on directories\n",
    "* From python's point of view, directories that have\n",
    "an `__init__.py` file in them are considered modules\n",
    "\n",
    "---\n",
    "\n",
    "### Importing from your own modules\n",
    "\n",
    "```\n",
    "from module1 import function1\n",
    "from nested.module2 import function2\n",
    "function1()\n",
    "function2()\n",
    "```\n",
    "\n",
    "---\n",
    "\n",
    "The file structure:\n",
    "\n",
    "```\n",
    "module_parent/\n",
    "├── __init__.py\n",
    "├── module1.py --> function1\n",
    "├── nested\n",
    "│   ├── __init__.py\n",
    "│   └── module2.py --> function2\n",
    "└── notebook.ipynb\n",
    "```\n",
    "\n",
    "Note:\n",
    "\n",
    "* Our notebook is in the top folder named `module_parent`.\n",
    "* This has an `__init__.py ` file, so `module_parent` is the top level module.\n",
    "* Another file, `module1`, is also a module\n",
    "  * so we can do `from module1 import function1`\n",
    "* A folder called `nested` is also here\n",
    "  * since it has an `__init__.py`, it's also a module\n",
    "  * since it has a file name `module2.py`\n",
    "    * we can do `from nested.module2 import function2`\n",
    "\n",
    "---\n",
    "\n",
    "### Gotchas regarding modules\n",
    "\n",
    "* try to do imports at the top of the module\n",
    "  * it's more readable that way\n",
    "* imports work related to the module where you call\n",
    "* For example, let's look at function3 in module3.\n",
    "\n",
    "```python\n",
    "from nested.module3 import function3\n",
    "function3()\n",
    "```\n",
    "\n",
    "Note:\n",
    "\n",
    "* `module3` calls `function1` from `module1`.\n",
    "* Works because you are calling the module from `module_parent`\n",
    "* If you try from the nested folder, for example, it will not work\n",
    "* Let's try that now, create a new notebook in the nested folder"
   ]
  },
  {
   "cell_type": "markdown",
   "metadata": {},
   "source": [
    "### Hashtag version 2"
   ]
  },
  {
   "cell_type": "code",
   "execution_count": 29,
   "metadata": {},
   "outputs": [
    {
     "name": "stdout",
     "output_type": "stream",
     "text": [
      "Tweets to be sent\n",
      "[{'hashtag': '#mango', 'message': 'I love exotic fruits'},\n",
      " {'hashtag': '#pear', 'message': 'Local foods are the best'},\n",
      " {'hashtag': '#celery', 'message': 'Why not vegetables'}]\n",
      "Starting to send tweets\n",
      "Sending update `I love exotic fruits #mango`\n",
      "Failed [{'code': 89, 'message': 'Invalid or expired token.'}]\n",
      "Sending update `Local foods are the best #pear`\n",
      "Failed [{'code': 89, 'message': 'Invalid or expired token.'}]\n",
      "Sending update `Why not vegetables #celery`\n",
      "Failed [{'code': 89, 'message': 'Invalid or expired token.'}]\n"
     ]
    }
   ],
   "source": [
    "from twitter import Api, TwitterError\n",
    "from openpyxl import load_workbook\n",
    "from pprint import pprint\n",
    "\n",
    "EXCEL_FILE = './hashtag/hashtag.xlsx'\n",
    "EXCEL_SHEET = 'hashtag'\n",
    "\n",
    "api = Api(\n",
    "    consumer_key='uV8NLoJBkI46NPiHZJgvJY2PP',\n",
    "    consumer_secret='4gtGFn2QySlxnyFkdcnpjXy5a8rVRyBdaoJcXiJordEbx0UpXk',\n",
    "    access_token_key='994947930971885569-rZGjnP0IhF4UbPHHQjKlr2l2eI4m4iM',\n",
    "    access_token_secret='eAdMlpqzmZApHAVHa1WRziIQw0U5KP62AhfyOdasyUwiz'\n",
    ")\n",
    "\n",
    "def get_tweets():\n",
    "    wb = load_workbook(EXCEL_FILE)\n",
    "    sheet = wb[EXCEL_SHEET]\n",
    "\n",
    "    tweets = []\n",
    "    header = {}\n",
    "    for i, row in enumerate(sheet.rows):\n",
    "        if i == 0:\n",
    "            for j, cell in enumerate(row):\n",
    "                header[j] = cell.value\n",
    "        else:\n",
    "            tweet = {}\n",
    "            for j, cell in enumerate(row):\n",
    "                tweet[header[j]] = cell.value\n",
    "            tweets.append(tweet)\n",
    "\n",
    "    return tweets\n",
    "\n",
    "def send_tweets():\n",
    "    tweets = get_tweets()\n",
    "    print('Tweets to be sent')\n",
    "    pprint(tweets)\n",
    "    \n",
    "    print('Starting to send tweets')\n",
    "    for tweet in tweets:\n",
    "        update = '{} {}'.format(tweet['message'], tweet['hashtag'])\n",
    "        print(f'Sending update `{update}`')\n",
    "        try:\n",
    "            status = api.PostUpdate(update)\n",
    "            print('Update sent successfully')\n",
    "        except TwitterError as e:\n",
    "            print('Failed {}'.format(e))\n",
    "\n",
    "send_tweets()"
   ]
  },
  {
   "cell_type": "markdown",
   "metadata": {},
   "source": [
    "### Quite a lot going on, let's take it step by step."
   ]
  },
  {
   "cell_type": "markdown",
   "metadata": {},
   "source": [
    "### Twitter API\n",
    "\n",
    "* Twitter has a REST API which lets you:\n",
    "  * read tweets\n",
    "  * send tweets\n",
    "  * many more\n",
    "* A library was created to wrap this basic API: [python-twitter](https://python-twitter.readthedocs.io/en/latest/)\n"
   ]
  },
  {
   "cell_type": "markdown",
   "metadata": {},
   "source": [
    "To use the twitter API, you will need 3 things:\n",
    "* to import the library "
   ]
  },
  {
   "cell_type": "code",
   "execution_count": 30,
   "metadata": {},
   "outputs": [],
   "source": [
    "import twitter"
   ]
  },
  {
   "cell_type": "markdown",
   "metadata": {},
   "source": [
    "* to instantiate it"
   ]
  },
  {
   "cell_type": "code",
   "execution_count": 31,
   "metadata": {},
   "outputs": [],
   "source": [
    "api = twitter.Api(\n",
    "    consumer_key='', consumer_secret='',\n",
    "    access_token_key='', access_token_secret=''\n",
    ")"
   ]
  },
  {
   "cell_type": "markdown",
   "metadata": {},
   "source": [
    "* to use it with `api.<method>`"
   ]
  },
  {
   "cell_type": "markdown",
   "metadata": {},
   "source": [
    "api.PostUpdate('Update text')"
   ]
  },
  {
   "cell_type": "markdown",
   "metadata": {},
   "source": [
    "#### Twitter API Secrets\n",
    "\n",
    "* To get the secrets, you'll need to set up a new App in twitter (and a user, maybe?)\n",
    "* Don't worry, one is already set up for you, [here](https://apps.twitter.com/app/15218341/keys)\n",
    "  * The user is * Sally WaffleLover*, we'll give you the credentials during the course 😉\n",
    "* If you want it for your own twitter user, follow this python-twitter \n",
    "[page](https://python-twitter.readthedocs.io/en/latest/getting_started.html), \n",
    "it's pretty good"
   ]
  },
  {
   "cell_type": "markdown",
   "metadata": {},
   "source": [
    "#### `openpyxl`\n",
    "\n",
    "* This is a library used to read/write Excel 2007+ files (xlsx)\n",
    "* An alternative could have been pandas, but it's a bigger library\n",
    "* It enables reading an excel document as a python object\n",
    "\n",
    "---\n",
    "\n",
    "### Basic `openpyxl` usage\n",
    "\n",
    "Note:\n",
    "\n",
    "* To load a sheet, it's easy.\n",
    "* First you have to open the file using `load_workbook`.\n",
    "* Then you can read the sheet using `workbook['<sheetname>']`.\n",
    "* The sheet will have an object called `rows`.\n",
    "* This is called a `generator` object, as you can't read it directly\n",
    ", you have to iterate over it.\n",
    "* This is done for performance reasons, as you don't always \n",
    "want to load the entire file in memory.\n",
    "* Every row is a actually a list of cells\n",
    "* We can iterate over them and find their values"
   ]
  },
  {
   "cell_type": "code",
   "execution_count": 36,
   "metadata": {},
   "outputs": [
    {
     "name": "stdout",
     "output_type": "stream",
     "text": [
      "<generator object Worksheet._cells_by_row at 0x0000018C17BB0990>\n",
      "(<Cell 'hashtag'.A1>, <Cell 'hashtag'.B1>)\n",
      "message;hashtag;(<Cell 'hashtag'.A2>, <Cell 'hashtag'.B2>)\n",
      "I love exotic fruits;#mango;(<Cell 'hashtag'.A3>, <Cell 'hashtag'.B3>)\n",
      "Local foods are the best;#pear;(<Cell 'hashtag'.A4>, <Cell 'hashtag'.B4>)\n",
      "Why not vegetables;#celery;"
     ]
    }
   ],
   "source": [
    "wb = load_workbook('./hashtag/hashtag.xlsx')\n",
    "sheet = wb['hashtag']\n",
    "\n",
    "print(sheet.rows)\n",
    "for row in sheet.rows:\n",
    "    print(row)\n",
    "    for cell in row:\n",
    "        print(cell.value, end=';')"
   ]
  },
  {
   "cell_type": "markdown",
   "metadata": {},
   "source": [
    "### Getting the tweets"
   ]
  },
  {
   "cell_type": "code",
   "execution_count": 37,
   "metadata": {},
   "outputs": [],
   "source": [
    "def get_tweets(): # Load the workbook\n",
    "    wb = load_workbook(EXCEL_FILE)\n",
    "    sheet = wb[EXCEL_SHEET]\n",
    "\n",
    "    tweets = [] # Initialize the header as an empty dict, and the tweets as an empty list\n",
    "    header = {}\n",
    "    for i, row in enumerate(sheet.rows): # Iterate over the rows\n",
    "        if i == 0: # Generate the header object - key will be an integer - the column, value the header name\n",
    "            for j, cell in enumerate(row):\n",
    "                header[j] = cell.value\n",
    "        else: # Generate the tweet dictionaries\n",
    "            tweet = {}\n",
    "            for j, cell in enumerate(row):\n",
    "                tweet[header[j]] = cell.value\n",
    "            tweets.append(tweet)\n",
    "\n",
    "    return tweets"
   ]
  },
  {
   "cell_type": "code",
   "execution_count": 38,
   "metadata": {},
   "outputs": [
    {
     "data": {
      "text/plain": [
       "[{'message': 'I love exotic fruits', 'hashtag': '#mango'},\n",
       " {'message': 'Local foods are the best', 'hashtag': '#pear'},\n",
       " {'message': 'Why not vegetables', 'hashtag': '#celery'}]"
      ]
     },
     "execution_count": 38,
     "metadata": {},
     "output_type": "execute_result"
    }
   ],
   "source": [
    "get_tweets()"
   ]
  },
  {
   "cell_type": "markdown",
   "metadata": {},
   "source": [
    "### Sending the tweets"
   ]
  },
  {
   "cell_type": "code",
   "execution_count": 41,
   "metadata": {},
   "outputs": [],
   "source": [
    "from pprint import pprint\n",
    "def send_tweets():\n",
    "    tweets = get_tweets() # Load the tweets\n",
    "    print('Tweets to be sent') # Print the tweets, prettified\n",
    "    pprint(tweets)\n",
    "    \n",
    "    print('Starting to send tweets') # Start sending the tweets. Iterate over.\n",
    "    for tweet in tweets:\n",
    "        update = '{} {}'.format(tweet['message'], tweet['hashtag']) # Generate the update message. This way we can print it and send it 😉\n",
    "        print(f'Sending update `{update}`') # Log that we try to send the update\n",
    "        try: # Try to send the tweet, but catch the errors\n",
    "            status = api.PostUpdate(update)\n",
    "            print('Update sent successfully')\n",
    "        except TwitterError as e:\n",
    "            print('Failed {}'.format(e))"
   ]
  },
  {
   "cell_type": "code",
   "execution_count": 42,
   "metadata": {},
   "outputs": [
    {
     "name": "stdout",
     "output_type": "stream",
     "text": [
      "Tweets to be sent\n",
      "[{'hashtag': '#mango', 'message': 'I love exotic fruits'},\n",
      " {'hashtag': '#pear', 'message': 'Local foods are the best'},\n",
      " {'hashtag': '#celery', 'message': 'Why not vegetables'}]\n",
      "Starting to send tweets\n",
      "Sending update `I love exotic fruits #mango`\n",
      "Failed The twitter.Api instance must be authenticated.\n",
      "Sending update `Local foods are the best #pear`\n",
      "Failed The twitter.Api instance must be authenticated.\n",
      "Sending update `Why not vegetables #celery`\n",
      "Failed The twitter.Api instance must be authenticated.\n"
     ]
    }
   ],
   "source": [
    "send_tweets()"
   ]
  },
  {
   "cell_type": "markdown",
   "metadata": {},
   "source": [
    "* A lot of printing, but the core functionality can be resumed to\n",
    "```python\n",
    "api.PostUpdate(update)\n",
    "```"
   ]
  },
  {
   "cell_type": "code",
   "execution_count": null,
   "metadata": {},
   "outputs": [],
   "source": []
  }
 ],
 "metadata": {
  "kernelspec": {
   "display_name": "Python 3",
   "language": "python",
   "name": "python3"
  },
  "language_info": {
   "codemirror_mode": {
    "name": "ipython",
    "version": 3
   },
   "file_extension": ".py",
   "mimetype": "text/x-python",
   "name": "python",
   "nbconvert_exporter": "python",
   "pygments_lexer": "ipython3",
   "version": "3.6.5"
  }
 },
 "nbformat": 4,
 "nbformat_minor": 2
}
